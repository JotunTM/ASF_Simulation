{
 "cells": [
  {
   "cell_type": "markdown",
   "metadata": {},
   "source": [
    "1R-1C model\n"
   ]
  },
  {
   "cell_type": "markdown",
   "metadata": {},
   "source": [
    "3R-1C model"
   ]
  },
  {
   "cell_type": "markdown",
   "metadata": {},
   "source": [
    "5R-1C model (ISO7751)"
   ]
  },
  {
   "cell_type": "markdown",
   "metadata": {},
   "source": [
    "carpet plot: heating vs cooling\n"
   ]
  },
  {
   "cell_type": "markdown",
   "metadata": {},
   "source": [
    "carpet plot: occupancy vs building age\n"
   ]
  },
  {
   "cell_type": "code",
   "execution_count": 2,
   "metadata": {
    "collapsed": true
   },
   "outputs": [],
   "source": [
    "import pandas as pd\n",
    "import matplotlib.pyplot as plt\n",
    "import datetime\n",
    "import numpy as np\n",
    "import cdecimal as dec\n",
    "import re as re\n",
    "import csv\n",
    "import os, sys\n",
    "import plotly.plotly as py\n",
    "from plotly.tools import FigureFactory as FF\n",
    "import plotly.graph_objs as go\n"
   ]
  },
  {
   "cell_type": "code",
   "execution_count": 3,
   "metadata": {
    "collapsed": false
   },
   "outputs": [],
   "source": [
    "paths = {}\n",
    "def filepath(filename):\n",
    "    paths['main'] = \"C:\\Users\\Zghiru\\Documents\\GitHub\\ASF_Simulation\\Simulation_Tool\\New_SimulationEnvironment\\CEA_Archetypes_CH\"\n",
    "    #os.path.abspath(os.path.dirname(sys.argv[0]))\n",
    "    paths['result'] = os.path.join(paths['main'], filename)  \n",
    "    return paths['result']\n",
    "\n",
    "def split_Name_char_num(dataframe):\n",
    "    occtype=[]\n",
    "    typenum=[]\n",
    "    for name in dataframe.Name: \n",
    "        match = re.match(r\"([a-zA-Z_]+)([0-9]+)\", name, re.I)\n",
    "        if match:\n",
    "            items = match.groups()\n",
    "            occtype.append(items[0])\n",
    "            typenum.append(int(items[1]))\n",
    "    dataframe['occtype'] = pd.DataFrame(occtype)\n",
    "    dataframe['typenum'] = pd.DataFrame(typenum)\n",
    "    dataframe.sort_values(['occtype','typenum'],ascending=[False,True])\n",
    "    return dataframe\n"
   ]
  },
  {
   "cell_type": "code",
   "execution_count": null,
   "metadata": {
    "collapsed": true
   },
   "outputs": [],
   "source": []
  },
  {
   "cell_type": "raw",
   "metadata": {
    "collapsed": false
   },
   "source": [
    "b_props = pd.read_csv(filepath('b_props.csv'))\n",
    "b_props = b_props[b_props.interval == \"2005-2020\"]\n",
    "b_props = b_props[b_props.type=='construction']\n",
    "\n",
    "cairo_south = pd.read_csv(filepath('Archetypes_Cairo_South.csv'))\n",
    "cairo_south = split_Name_char_num(cairo_south)\n",
    "cairo_south = cairo_south.loc[cairo_south['Name'].isin(b_props.Name)]\n",
    "cairo_south.sort_values(['occtype','typenum'],ascending=[False,True])\n",
    "\n",
    "cairo_west = pd.read_csv(filepath('Archetypes_Cairo_West.csv'))\n",
    "cairo_west = split_Name_char_num(cairo_west)\n",
    "cairo_west = cairo_south.loc[cairo_west['Name'].isin(b_props.Name)]\n",
    "cairo_west.sort_values(['occtype','typenum'],ascending=[False,True])\n",
    "\n",
    "zurich_south = pd.read_csv(filepath('Archetypes_Zurich_South_2013.csv'))\n",
    "zurich_south = split_Name_char_num(zurich_south)\n",
    "zurich_south = zurich_south.loc[zurich_south['Name'].isin(b_props.Name)]\n",
    "zurich_south.sort_values(['occtype','typenum'],ascending=[False,True])\n",
    "\n",
    "print cairo_west.C - cairo_south.C"
   ]
  },
  {
   "cell_type": "code",
   "execution_count": 6,
   "metadata": {
    "collapsed": false
   },
   "outputs": [
    {
     "data": {
      "text/html": [
       "<iframe id=\"igraph\" scrolling=\"no\" style=\"border:none;\" seamless=\"seamless\" src=\"https://plot.ly/~JustinZarb/4.embed\" height=\"525px\" width=\"100%\"></iframe>"
      ],
      "text/plain": [
       "<plotly.tools.PlotlyDisplay object>"
      ]
     },
     "execution_count": 6,
     "metadata": {},
     "output_type": "execute_result"
    }
   ],
   "source": [
    "zurich = go.Scatter(\n",
    "    x=zurich_south.Name,\n",
    "    y=zurich_south.E_HCL,\n",
    "    fill='tonexty',\n",
    "    name='Zurich_South'\n",
    ")\n",
    "cairosouth = go.Scatter(\n",
    "    x=cairo_south.Name,\n",
    "    y=cairo_south.E_HCL,\n",
    "    fill='tonexty',\n",
    "    name='Cairo_South'\n",
    ")\n",
    "cairowest = go.Scatter(\n",
    "    x=cairo_west.Name,\n",
    "    y=cairo_west.E_HCL,\n",
    "    fill='tonexty',\n",
    "    name='Cairo_west'\n",
    ")\n",
    "\n",
    "data = [zurich,cairosouth,cairowest]\n",
    "\n",
    "layout = go.Layout(\n",
    "    title='E_HCL',\n",
    "    xaxis=dict(\n",
    "        title='Archetype',\n",
    "        titlefont=dict(\n",
    "            family='Courier New, monospace',\n",
    "            size=18,\n",
    "            color='#7f7f7f'\n",
    "        )\n",
    "    ),\n",
    "    yaxis=dict(\n",
    "        title='MWH/year',\n",
    "        titlefont=dict(\n",
    "            family='Courier New, monospace',\n",
    "            size=18,\n",
    "            color='#7f7f7f'\n",
    "        )\n",
    "    )\n",
    ")\n",
    "fig = go.Figure(data=data, layout=layout)\n",
    "py.iplot(fig, filename='new')"
   ]
  },
  {
   "cell_type": "code",
   "execution_count": 133,
   "metadata": {
    "collapsed": false
   },
   "outputs": [],
   "source": [
    "List 3R1C parameters\n",
    "Office=Building(Cm=2.07, R_env=42, Infl=0.5, vent_Pp=0.016)\n",
    "Fenst_A=13.5 ,\n",
    "Room_Depth=7 ,\n",
    "Room_Width=4.9 ,\n",
    "Room_Height=3.1 ,\n",
    "glass_solar_transmitance=0.687 ,\n",
    "glass_light_transmitance=0.744 ,\n",
    "LightLoad=0.0117 ,\n",
    "LightingControl = 300,\n",
    "Cm=2.07,\n",
    "R_env=42,\n",
    "Infl=0.5,\n",
    "vent_Pp=0.016,\n"
   ]
  },
  {
   "cell_type": "code",
   "execution_count": null,
   "metadata": {
    "collapsed": true
   },
   "outputs": [],
   "source": []
  }
 ],
 "metadata": {
  "anaconda-cloud": {},
  "kernelspec": {
   "display_name": "Python [conda root]",
   "language": "python",
   "name": "conda-root-py"
  },
  "language_info": {
   "codemirror_mode": {
    "name": "ipython",
    "version": 2
   },
   "file_extension": ".py",
   "mimetype": "text/x-python",
   "name": "python",
   "nbconvert_exporter": "python",
   "pygments_lexer": "ipython2",
   "version": "2.7.12"
  }
 },
 "nbformat": 4,
 "nbformat_minor": 1
}
