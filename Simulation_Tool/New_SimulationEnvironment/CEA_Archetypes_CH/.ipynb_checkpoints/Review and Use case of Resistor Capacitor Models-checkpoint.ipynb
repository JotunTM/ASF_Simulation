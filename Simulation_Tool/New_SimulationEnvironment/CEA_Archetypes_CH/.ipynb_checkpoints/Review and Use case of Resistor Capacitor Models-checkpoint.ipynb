{
 "cells": [
  {
   "cell_type": "markdown",
   "metadata": {},
   "source": [
    "1R-1C model\n"
   ]
  },
  {
   "cell_type": "markdown",
   "metadata": {},
   "source": [
    "3R-1C model"
   ]
  },
  {
   "cell_type": "markdown",
   "metadata": {},
   "source": [
    "5R-1C model (ISO7751)"
   ]
  },
  {
   "cell_type": "markdown",
   "metadata": {},
   "source": [
    "carpet plot: heating vs cooling\n"
   ]
  },
  {
   "cell_type": "markdown",
   "metadata": {},
   "source": [
    "carpet plot: occupancy vs building age\n"
   ]
  },
  {
   "cell_type": "code",
   "execution_count": 11,
   "metadata": {
    "collapsed": true
   },
   "outputs": [],
   "source": [
    "import pandas as pd\n",
    "import matplotlib.pyplot as plt\n",
    "import datetime\n",
    "import numpy as np\n",
    "import cdecimal as dec\n",
    "import re as re\n",
    "import csv\n",
    "import os, sys\n",
    "import plotly.plotly as py\n",
    "from plotly.tools import FigureFactory as FF\n",
    "import plotly.graph_objs as go\n"
   ]
  },
  {
   "cell_type": "code",
   "execution_count": 3,
   "metadata": {
    "collapsed": false
   },
   "outputs": [],
   "source": [
    "paths = {}\n",
    "def filepath(filename):\n",
    "    paths['main'] = \"C:\\Users\\Zghiru\\Documents\\GitHub\\ASF_Simulation\\Simulation_Tool\\New_SimulationEnvironment\\CEA_Archetypes_CH\"\n",
    "    #os.path.abspath(os.path.dirname(sys.argv[0]))\n",
    "    paths['result'] = os.path.join(paths['main'], filename)  \n",
    "    return paths['result']\n",
    "\n",
    "def split_Name_char_num(dataframe):\n",
    "    occtype=[]\n",
    "    typenum=[]\n",
    "    for name in dataframe.Name: \n",
    "        match = re.match(r\"([a-zA-Z_]+)([0-9]+)\", name, re.I)\n",
    "        if match:\n",
    "            items = match.groups()\n",
    "            occtype.append(items[0])\n",
    "            typenum.append(int(items[1]))\n",
    "    dataframe['occtype'] = pd.DataFrame(occtype)\n",
    "    dataframe['typenum'] = pd.DataFrame(typenum)\n",
    "    dataframe.sort_values(['occtype','typenum'],ascending=[False,True])\n",
    "    return \n"
   ]
  },
  {
   "cell_type": "code",
   "execution_count": 65,
   "metadata": {
    "collapsed": false
   },
   "outputs": [
    {
     "name": "stdout",
     "output_type": "stream",
     "text": [
      "               C            E        E_HCL           H            L  \\\n",
      "0    2971.312826  2644.991985  2878.949786    0.000000   -92.363040   \n",
      "1    2607.595964  2122.614756  2354.152027 -132.563878  -120.880060   \n",
      "2    2391.119124  1820.330136  2052.359185 -217.879879  -120.880060   \n",
      "3    2281.082611  1663.024932  1895.076368 -265.126183  -120.880060   \n",
      "4    2391.119124  1820.330136  2052.359185 -217.879879  -120.880060   \n",
      "5    2306.166591  1677.179340  1908.375176 -276.911354  -120.880060   \n",
      "6    2306.166591  1677.179340  1908.375176 -276.911354  -120.880060   \n",
      "7    2281.082611  1663.024932  1895.076368 -265.126183  -120.880060   \n",
      "8    1548.570862   960.741264  1193.332763 -177.083898  -178.154200   \n",
      "9    1537.633014   946.611228  1179.265704 -180.213111  -178.154200   \n",
      "10   1487.263671   897.569221  1130.720912 -178.388560  -178.154200   \n",
      "11   2215.921173  1771.006087  2003.511729  -34.255244  -178.154200   \n",
      "12   2426.932961  2001.864628  2233.824817  -14.953944  -178.154200   \n",
      "13   2411.720711  1830.137150  2061.050097 -229.790554  -120.880060   \n",
      "14   2411.720711  1830.137150  2061.050097 -229.790554  -120.880060   \n",
      "15   1854.833980  1141.246524  1372.676386 -279.825324  -202.332270   \n",
      "16   2276.135433  1254.557147  1484.933290 -137.341243  -653.860900   \n",
      "17   2907.304458  2461.398061  2692.554197   -6.511531  -208.238730   \n",
      "18   1758.841264   139.229640   372.012277  -50.466688 -1336.362300   \n",
      "19   1932.644419   317.281731   549.211546  -47.070573 -1336.362300   \n",
      "20   1786.749312   150.233681   382.285228  -68.101784 -1336.362300   \n",
      "21   1740.270837   117.763058   350.678195  -53.230342 -1336.362300   \n",
      "22   2494.885462   925.074534  1157.272267   -1.250895 -1336.362300   \n",
      "23   2681.522426  1112.899890  1344.560386   -0.599740 -1336.362300   \n",
      "24   2494.885462   925.074534  1157.272267   -1.250895 -1336.362300   \n",
      "25   2528.290347   958.366140  1189.571955   -2.356093 -1336.362300   \n",
      "26   2528.290347   958.366140  1189.571955   -2.356093 -1336.362300   \n",
      "27   2478.017997  1888.871670  2118.195089 -196.314809  -163.508100   \n",
      "28   2478.017997  1888.871670  2118.195089 -196.314809  -163.508100   \n",
      "29   2679.307149  1110.683247  1342.343743   -0.601106 -1336.362300   \n",
      "..           ...          ...          ...         ...          ...   \n",
      "102  2753.063995  2509.425151  2742.952612   -1.339158    -8.772225   \n",
      "103  1978.535146  1709.310901  1943.330129  -26.432793    -8.772225   \n",
      "104  2145.493104  1883.145772  2116.172546  -20.548334    -8.772225   \n",
      "105  1987.158446  1705.095954  1938.222697  -40.163524    -8.772225   \n",
      "106  2761.112707  2299.049054  2530.744764  -22.129213  -208.238730   \n",
      "107  2761.112707  2299.049054  2530.744764  -22.129213  -208.238730   \n",
      "108  2864.660715  2570.136869  2799.707203   -3.707432   -61.246080   \n",
      "109  2666.629965  2360.290827  2590.352579  -15.031306   -61.246080   \n",
      "110  3036.785838  2710.425396  2944.422798    0.000000   -92.363040   \n",
      "111  2971.312826  2644.991985  2878.949786    0.000000   -92.363040   \n",
      "112  2666.629965  2360.290827  2590.352579  -15.031306   -61.246080   \n",
      "113  2424.385598  1999.157263  2231.117452  -15.113946  -178.154200   \n",
      "114  2215.921173  1771.006087  2003.511729  -34.255244  -178.154200   \n",
      "115  2215.921173  1771.006087  2003.511729  -34.255244  -178.154200   \n",
      "116  3019.799265  2133.734621  2362.949317   -2.989047  -653.860900   \n",
      "117  3019.799265  2133.734621  2362.949317   -2.989047  -653.860900   \n",
      "118  3020.467749  2131.722705  2361.855079   -4.751770  -653.860900   \n",
      "119  3149.050075  2261.848731  2491.427021   -3.762154  -653.860900   \n",
      "120  3020.467749  2131.722705  2361.855079   -4.751770  -653.860900   \n",
      "121  2745.027134  1841.063531  2071.146317  -20.019917  -653.860900   \n",
      "122  2924.841999  2682.133780  2915.099590   -0.970184    -8.772225   \n",
      "123  2308.421661  1267.769563  1497.353020 -157.207741  -653.860900   \n",
      "124  2753.063995  2509.425151  2742.952612   -1.339158    -8.772225   \n",
      "125  2753.063995  2509.425151  2742.952612   -1.339158    -8.772225   \n",
      "126  2798.219541  2171.544291  2403.578312  -21.422929  -373.218300   \n",
      "127  2710.648932  2068.386018  2300.871004  -36.559628  -373.218300   \n",
      "128  2710.648932  2068.386018  2300.871004  -36.559628  -373.218300   \n",
      "129  2511.878695  2017.198835  2249.312767  -60.233657  -202.332270   \n",
      "130  2341.534933  1802.025433  2034.622456 -104.580207  -202.332270   \n",
      "131  2341.534933  1802.025433  2034.622456 -104.580207  -202.332270   \n",
      "\n",
      "             PV          Name  \n",
      "0   -233.957801         GYM10  \n",
      "1   -231.537270   SINGLE_RES6  \n",
      "2   -232.029049   SINGLE_RES7  \n",
      "3   -232.051437   SINGLE_RES4  \n",
      "4   -232.029049   SINGLE_RES5  \n",
      "5   -231.195836   SINGLE_RES2  \n",
      "6   -231.195836   SINGLE_RES3  \n",
      "7   -232.051437   SINGLE_RES1  \n",
      "8   -232.591500       SCHOOL3  \n",
      "9   -232.654476       SCHOOL2  \n",
      "10  -233.151691       SCHOOL1  \n",
      "11  -232.505642       SCHOOL7  \n",
      "12  -231.960189       SCHOOL6  \n",
      "13  -230.912946   SINGLE_RES8  \n",
      "14  -230.912946   SINGLE_RES9  \n",
      "15  -231.429862       OFFICE2  \n",
      "16  -230.376142     HOSPITAL1  \n",
      "17  -231.156136  INDUSTRIAL12  \n",
      "18  -232.782637       RETAIL1  \n",
      "19  -231.929815       RETAIL2  \n",
      "20  -232.051547       RETAIL3  \n",
      "21  -232.915137       RETAIL4  \n",
      "22  -232.197733       RETAIL5  \n",
      "23  -231.660496       RETAIL6  \n",
      "24  -232.197733       RETAIL7  \n",
      "25  -231.205815       RETAIL8  \n",
      "26  -231.205815       RETAIL9  \n",
      "27  -229.323419    MULTI_RES8  \n",
      "28  -229.323419    MULTI_RES9  \n",
      "29  -231.660496      RETAIL12  \n",
      "..          ...           ...  \n",
      "102 -233.527461   RESTAURANT7  \n",
      "103 -234.019228   RESTAURANT1  \n",
      "104 -233.026774   RESTAURANT2  \n",
      "105 -233.126743   RESTAURANT3  \n",
      "106 -231.695710  INDUSTRIAL10  \n",
      "107 -231.695710  INDUSTRIAL11  \n",
      "108 -229.570334       HOTEL12  \n",
      "109 -230.061752       HOTEL10  \n",
      "110 -233.997401         GYM12  \n",
      "111 -233.957801         GYM11  \n",
      "112 -230.061752       HOTEL11  \n",
      "113 -231.960189      SCHOOL12  \n",
      "114 -232.505642      SCHOOL11  \n",
      "115 -232.505642      SCHOOL10  \n",
      "116 -229.214696     HOSPITAL9  \n",
      "117 -229.214696     HOSPITAL8  \n",
      "118 -230.132374     HOSPITAL7  \n",
      "119 -229.578290     HOSPITAL6  \n",
      "120 -230.132374     HOSPITAL5  \n",
      "121 -230.082785     HOSPITAL4  \n",
      "122 -232.965810  RESTAURANT12  \n",
      "123 -229.583457     HOSPITAL2  \n",
      "124 -233.527461  RESTAURANT10  \n",
      "125 -233.527461  RESTAURANT11  \n",
      "126 -232.034021   FOODSTORE12  \n",
      "127 -232.484986   FOODSTORE11  \n",
      "128 -232.484986   FOODSTORE10  \n",
      "129 -232.113932      OFFICE12  \n",
      "130 -232.597023      OFFICE11  \n",
      "131 -232.597023      OFFICE10  \n",
      "\n",
      "[132 rows x 7 columns]\n"
     ]
    }
   ],
   "source": [
    "b_props = pd.read_csv(filepath('b_props.csv'))\n",
    "#b_props = b_props[b_props.interval == \"2005-2020\"] #select buildings from specific period\n",
    "#b_props = b_props[b_props.type=='construction' #select only new built buildings\n",
    "\n",
    "cairo_south = pd.read_csv(filepath('Archetypes_Cairo_South.csv'))\n",
    "cairo_south = split_Name_char_num(cairo_south)\n",
    "cairo_south = cairo_south.loc[cairo_south['Name'].isin(b_props.Name)]\n",
    "cairo_south.sort_values(['occtype','typenum'],ascending=[False,True])\n",
    "#cairo_south['index'] = cairo_south.index # create a sort index for \n",
    "#cairo_south.sort_values(['E_HCL'],ascending=True)\n",
    "\n",
    "cairo_west = pd.read_csv(filepath('Archetypes_Cairo_West.csv'))\n",
    "cairo_west = split_Name_char_num(cairo_west)\n",
    "cairo_west = cairo_west.loc[cairo_west['Name'].isin(b_props.Name)]\n",
    "cairo_west.sort_values(['occtype','typenum'],ascending=[False,True])\n",
    "\n",
    "cw = cairo_west.drop(['Name', 'occtype', 'typenum'],axis=1)\n",
    "cs = cairo_south.drop(['Name', 'occtype', 'typenum'],axis=1)\n",
    "\n",
    "cairo_WS = cs.subtract(cw)\n",
    "cairo_WS[\"Name\"]=cairo_south[\"Name\"]\n",
    "\n",
    "zurich_south = pd.read_csv(filepath('Archetypes_Zurich_South_2013.csv'))\n",
    "zurich_south = split_Name_char_num(zurich_south)\n",
    "zurich_south = zurich_south.loc[zurich_south['Name'].isin(b_props.Name)]\n",
    "zurich_south.sort_values(['occtype','typenum'],ascending=[False,True])\n",
    "\n",
    "print cairo_WS"
   ]
  },
  {
   "cell_type": "code",
   "execution_count": 21,
   "metadata": {
    "collapsed": false
   },
   "outputs": [
    {
     "data": {
      "text/html": [
       "<iframe id=\"igraph\" scrolling=\"no\" style=\"border:none;\" seamless=\"seamless\" src=\"https://plot.ly/~JustinZarb/4.embed\" height=\"525px\" width=\"100%\"></iframe>"
      ],
      "text/plain": [
       "<plotly.tools.PlotlyDisplay object>"
      ]
     },
     "execution_count": 21,
     "metadata": {},
     "output_type": "execute_result"
    }
   ],
   "source": [
    "zurich = go.Scatter(\n",
    "    x=zurich_south.Name,\n",
    "    y=zurich_south.E_HCL,\n",
    "    fill='tonexty',\n",
    "    name='Zurich_South'\n",
    ")\n",
    "cairosouth = go.Scatter(\n",
    "    x=cairo_south.Name,\n",
    "    y=cairo_south.E_HCL,\n",
    "    fill='tonexty',\n",
    "    name='Cairo_South'\n",
    ")\n",
    "cairowest = go.Scatter(\n",
    "    x=cairo_west.Name,\n",
    "    y=cairo_west.E_HCL,\n",
    "    fill='tonexty',\n",
    "    name='Cairo_west'\n",
    ")\n",
    "\n",
    "data = [zurich,cairosouth,cairowest]\n",
    "\n",
    "layout = go.Layout(\n",
    "    title='E_HCL',\n",
    "    xaxis=dict(\n",
    "        title='Archetype',\n",
    "        titlefont=dict(\n",
    "            family='Courier New, monospace',\n",
    "            size=18,\n",
    "            color='#7f7f7f'\n",
    "        )\n",
    "    ),\n",
    "    yaxis=dict(\n",
    "        title='MWH/year',\n",
    "        titlefont=dict(\n",
    "            family='Courier New, monospace',\n",
    "            size=18,\n",
    "            color='#7f7f7f'\n",
    "        )\n",
    "    )\n",
    ")\n",
    "fig = go.Figure(data=data, layout=layout)\n",
    "py.iplot(fig, filename='new')"
   ]
  },
  {
   "cell_type": "code",
   "execution_count": 66,
   "metadata": {
    "collapsed": false
   },
   "outputs": [
    {
     "data": {
      "text/html": [
       "<iframe id=\"igraph\" scrolling=\"no\" style=\"border:none;\" seamless=\"seamless\" src=\"https://plot.ly/~JustinZarb/4.embed\" height=\"525px\" width=\"100%\"></iframe>"
      ],
      "text/plain": [
       "<plotly.tools.PlotlyDisplay object>"
      ]
     },
     "execution_count": 66,
     "metadata": {},
     "output_type": "execute_result"
    }
   ],
   "source": [
    "cws1 = go.Scatter(\n",
    "    x=cairo_WS.Name,\n",
    "    y=cairo_WS.L,\n",
    "    fill='tonexty',\n",
    "    name='Lighting'\n",
    ")\n",
    "cws2 = go.Scatter(\n",
    "    x=cairo_WS.Name,\n",
    "    y=cairo_WS.H,\n",
    "    fill='tonexty',\n",
    "    name='Heating'\n",
    ")\n",
    "cws3 = go.Scatter(\n",
    "    x=cairo_WS.Name,\n",
    "    y=cairo_WS.C,\n",
    "    fill='tonexty',\n",
    "    name='Cooling'\n",
    ")\n",
    "cws4 = go.Scatter(\n",
    "    x=cairo_WS.Name,\n",
    "    y=cairo_WS.E,\n",
    "    fill='tonexty',\n",
    "    name='Electricity'\n",
    ")\n",
    "cws5 = go.Scatter(\n",
    "    x=cairo_WS.Name,\n",
    "    y=cairo_WS.E_HCL,\n",
    "    fill='tonexty',\n",
    "    name='Total Energy'\n",
    ")\n",
    "\n",
    "cws6 = go.Scatter(\n",
    "    x=cairo_WS.Name,\n",
    "    y=cairo_WS.PV,\n",
    "    fill='tonexty',\n",
    "    name='PV Generation'\n",
    ")\n",
    "\n",
    "\n",
    "data = [cws1,cws2,cws3,cws4,cws5,cws6]\n",
    "\n",
    "\n",
    "py.iplot(data, filename='horizontal-bar')\n",
    "layout = go.Layout(\n",
    "    title='Difference between West and South-oriented rooms in Cairo',\n",
    "    xaxis=dict(\n",
    "        title='Archetype',\n",
    "        titlefont=dict(\n",
    "            family='Courier New, monospace',\n",
    "            size=18,\n",
    "            color='#7f7f7f'\n",
    "        )\n",
    "    ),\n",
    "    yaxis=dict(\n",
    "        title='MWH/year',\n",
    "        titlefont=dict(\n",
    "            family='Courier New, monospace',\n",
    "            size=18,\n",
    "            color='#7f7f7f'\n",
    "        )\n",
    "    )\n",
    ")\n",
    "fig = go.Figure(data=data, layout=layout)\n",
    "py.iplot(fig, filename='new')"
   ]
  },
  {
   "cell_type": "code",
   "execution_count": 63,
   "metadata": {
    "collapsed": false
   },
   "outputs": [
    {
     "data": {
      "text/html": [
       "<iframe id=\"igraph\" scrolling=\"no\" style=\"border:none;\" seamless=\"seamless\" src=\"https://plot.ly/~JustinZarb/8.embed\" height=\"525px\" width=\"100%\"></iframe>"
      ],
      "text/plain": [
       "<plotly.tools.PlotlyDisplay object>"
      ]
     },
     "execution_count": 63,
     "metadata": {},
     "output_type": "execute_result"
    }
   ],
   "source": [
    "import plotly.plotly as py\n",
    "import plotly.graph_objs as go\n",
    "\n",
    "zsl = go.Bar(\n",
    "    x=zurich_south.L,\n",
    "    y=zurich_south.Name,\n",
    "    name='Lighting',\n",
    "    orientation = 'h'\n",
    ")\n",
    "zsh = go.Bar(\n",
    "    x=zurich_south.H,\n",
    "    y=zurich_south.Name,\n",
    "    name='Heating',\n",
    "    orientation = 'h'\n",
    ")\n",
    "zsc = go.Bar(\n",
    "    x=zurich_south.C,\n",
    "    y=zurich_south.Name,\n",
    "    name='Cooling',\n",
    "    orientation = 'h'\n",
    ")\n",
    "zse = go.Bar(\n",
    "    x=zurich_south.E,\n",
    "    y=zurich_south.Name,\n",
    "    name='Electricity',\n",
    "    orientation = 'h'\n",
    ")\n",
    "\n",
    "data = [zsh,zsc,zsl,zse]\n",
    "layout = go.Layout(\n",
    "    barmode='stack',\n",
    ")\n",
    "\n",
    "fig = go.Figure(data=data, layout=layout)\n",
    "py.iplot(fig, filename='Zurich South')\n"
   ]
  },
  {
   "cell_type": "code",
   "execution_count": 64,
   "metadata": {
    "collapsed": false
   },
   "outputs": [
    {
     "data": {
      "text/html": [
       "<iframe id=\"igraph\" scrolling=\"no\" style=\"border:none;\" seamless=\"seamless\" src=\"https://plot.ly/~JustinZarb/10.embed\" height=\"525px\" width=\"100%\"></iframe>"
      ],
      "text/plain": [
       "<plotly.tools.PlotlyDisplay object>"
      ]
     },
     "execution_count": 64,
     "metadata": {},
     "output_type": "execute_result"
    }
   ],
   "source": [
    "import plotly.plotly as py\n",
    "import plotly.graph_objs as go\n",
    "\n",
    "zsl = go.Bar(\n",
    "    x=zurich_south.Name,\n",
    "    y=zurich_south.L,\n",
    "    name='Lighting',\n",
    ")\n",
    "zsh = go.Bar(\n",
    "    x=zurich_south.Name,\n",
    "    y=zurich_south.H,\n",
    "    name='Heating',\n",
    ")\n",
    "zsc = go.Bar(\n",
    "    x=zurich_south.Name,\n",
    "    y=zurich_south.C,\n",
    "    name='Cooling',\n",
    ")\n",
    "zse = go.Bar(\n",
    "    x=zurich_south.Name,\n",
    "    y=zurich_south.E,\n",
    "    name='Electricity',\n",
    ")\n",
    "\n",
    "data = [zsh,zsc,zsl,zse]\n",
    "layout = go.Layout(\n",
    "    barmode='stack',\n",
    ")\n",
    "\n",
    "fig = go.Figure(data=data, layout=layout)\n",
    "py.iplot(fig, filename='Zurich South_vertical')\n"
   ]
  },
  {
   "cell_type": "code",
   "execution_count": null,
   "metadata": {
    "collapsed": true
   },
   "outputs": [],
   "source": []
  }
 ],
 "metadata": {
  "anaconda-cloud": {},
  "kernelspec": {
   "display_name": "Python [conda root]",
   "language": "python",
   "name": "conda-root-py"
  },
  "language_info": {
   "codemirror_mode": {
    "name": "ipython",
    "version": 2
   },
   "file_extension": ".py",
   "mimetype": "text/x-python",
   "name": "python",
   "nbconvert_exporter": "python",
   "pygments_lexer": "ipython2",
   "version": "2.7.12"
  }
 },
 "nbformat": 4,
 "nbformat_minor": 1
}
