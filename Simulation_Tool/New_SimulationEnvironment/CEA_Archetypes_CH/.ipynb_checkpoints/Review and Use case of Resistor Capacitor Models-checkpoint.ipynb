{
 "cells": [
  {
   "cell_type": "code",
   "execution_count": null,
   "metadata": {
    "collapsed": true
   },
   "outputs": [],
   "source": [
    "1R-1C model\n"
   ]
  },
  {
   "cell_type": "markdown",
   "metadata": {},
   "source": [
    "3R-1C model"
   ]
  },
  {
   "cell_type": "markdown",
   "metadata": {},
   "source": [
    "5R-1C model (ISO7751)"
   ]
  },
  {
   "cell_type": "markdown",
   "metadata": {},
   "source": [
    "carpet plot: heating vs cooling\n"
   ]
  },
  {
   "cell_type": "markdown",
   "metadata": {},
   "source": [
    "carpet plot: occupancy vs building age\n"
   ]
  },
  {
   "cell_type": "code",
   "execution_count": 1,
   "metadata": {
    "collapsed": true
   },
   "outputs": [],
   "source": [
    "import pandas as pd\n",
    "import matplotlib.pyplot as plt\n",
    "import datetime\n",
    "import numpy as np\n",
    "import cdecimal as dec\n",
    "import re as re\n",
    "import csv\n",
    "import os, sys\n",
    "import plotly.plotly as py\n",
    "from plotly.tools import FigureFactory as FF\n",
    "import plotly.graph_objs as go\n"
   ]
  },
  {
   "cell_type": "code",
   "execution_count": 95,
   "metadata": {
    "collapsed": false
   },
   "outputs": [],
   "source": [
    "paths = {}\n",
    "def filepath(filename):\n",
    "    paths['main'] = \"C:\\Users\\Zghiru\\Documents\\GitHub\\ASF_Simulation\\Simulation_Tool\\New_SimulationEnvironment\\CEA_Archetypes_CH\"\n",
    "    #os.path.abspath(os.path.dirname(sys.argv[0]))\n",
    "    paths['result'] = os.path.join(paths['main'], filename)  \n",
    "    return paths['result']\n",
    "\n",
    "def split_Name_char_num(df):\n",
    "    occtype=[]\n",
    "    typenum=[]\n",
    "    for name in df['Name']: \n",
    "        match = re.match(r\"([a-zA-Z_]+)([0-9]+)\", name, re.I)\n",
    "        if match:\n",
    "            items = match.groups()\n",
    "            occtype.append(items[0])\n",
    "            typenum.append(int(items[1]))\n",
    "    df['occtype'] = pd.DataFrame(occtype)\n",
    "    df['typenum'] = pd.DataFrame(typenum)\n",
    "    df.sort_values(['occtype','typenum'],ascending=[False,True])\n",
    "    return df\n",
    "\n",
    "def postprocess_results(df):\n",
    "    b_props = pd.read_csv(filepath('b_props.csv'))\n",
    "    df = df.loc[df['Name'].isin(b_props['Name'])]\n",
    "    \n",
    "def sort_stringint(df, column):\n",
    "    df['sortstr'] = df[column].str.extract('([^0-9]+)', expand=False)\n",
    "    df['sortint'] = df[column].str.extract('(\\d+)', expand=False).astype(int)\n",
    "    df.sort_values(['sortstr', 'sortint'], inplace=True, ascending=True)\n",
    "    df = df.drop('sortint', axis=1)\n",
    "    df = df.drop('sortstr', axis=1)\n",
    "    return df"
   ]
  },
  {
   "cell_type": "code",
   "execution_count": 86,
   "metadata": {
    "collapsed": false
   },
   "outputs": [
    {
     "data": {
      "text/html": [
       "<div>\n",
       "<table border=\"1\" class=\"dataframe\">\n",
       "  <thead>\n",
       "    <tr style=\"text-align: right;\">\n",
       "      <th></th>\n",
       "      <th>0</th>\n",
       "      <th>1</th>\n",
       "    </tr>\n",
       "  </thead>\n",
       "  <tbody>\n",
       "    <tr>\n",
       "      <th>0</th>\n",
       "      <td>RESTAURANT</td>\n",
       "      <td>1</td>\n",
       "    </tr>\n",
       "    <tr>\n",
       "      <th>1</th>\n",
       "      <td>RESTAURANT</td>\n",
       "      <td>2</td>\n",
       "    </tr>\n",
       "    <tr>\n",
       "      <th>2</th>\n",
       "      <td>COFFEESHOP</td>\n",
       "      <td>1</td>\n",
       "    </tr>\n",
       "  </tbody>\n",
       "</table>\n",
       "</div>"
      ],
      "text/plain": [
       "            0  1\n",
       "0  RESTAURANT  1\n",
       "1  RESTAURANT  2\n",
       "2  COFFEESHOP  1"
      ]
     },
     "execution_count": 86,
     "metadata": {},
     "output_type": "execute_result"
    }
   ],
   "source": [
    "series = pd.Series(['RESTAURANT1', 'RESTAURANT2', 'COFFEESHOP1'])\n",
    "series.str.extract('([^0-9]+)(\\d+)', expand=False)\n"
   ]
  },
  {
   "cell_type": "code",
   "execution_count": 113,
   "metadata": {
    "collapsed": false
   },
   "outputs": [
    {
     "ename": "IOError",
     "evalue": "File C:\\Users\\Zghiru\\Documents\\GitHub\\ASF_Simulation\\Simulation_Tool\\New_SimulationEnvironment\\CEA_Archetypes_CH\\Archetypes_Zurich_South_90.csv does not exist",
     "output_type": "error",
     "traceback": [
      "\u001b[0;31m---------------------------------------------------------------------------\u001b[0m",
      "\u001b[0;31mIOError\u001b[0m                                   Traceback (most recent call last)",
      "\u001b[0;32m<ipython-input-113-ad2cab4022b5>\u001b[0m in \u001b[0;36m<module>\u001b[0;34m()\u001b[0m\n\u001b[1;32m     39\u001b[0m \u001b[0mzurich_south_45\u001b[0m \u001b[1;33m=\u001b[0m \u001b[0msort_stringint\u001b[0m\u001b[1;33m(\u001b[0m\u001b[0mzurich_south_45\u001b[0m\u001b[1;33m,\u001b[0m \u001b[1;34m'Name'\u001b[0m\u001b[1;33m)\u001b[0m\u001b[1;33m\u001b[0m\u001b[0m\n\u001b[1;32m     40\u001b[0m \u001b[1;33m\u001b[0m\u001b[0m\n\u001b[0;32m---> 41\u001b[0;31m \u001b[0mzurich_south_90\u001b[0m \u001b[1;33m=\u001b[0m \u001b[0mpd\u001b[0m\u001b[1;33m.\u001b[0m\u001b[0mread_csv\u001b[0m\u001b[1;33m(\u001b[0m\u001b[0mfilepath\u001b[0m\u001b[1;33m(\u001b[0m\u001b[1;34m'Archetypes_Zurich_South_90.csv'\u001b[0m\u001b[1;33m)\u001b[0m\u001b[1;33m)\u001b[0m\u001b[1;33m\u001b[0m\u001b[0m\n\u001b[0m\u001b[1;32m     42\u001b[0m \u001b[0mpostprocess_results\u001b[0m\u001b[1;33m(\u001b[0m\u001b[0mzurich_south_90\u001b[0m\u001b[1;33m)\u001b[0m\u001b[1;33m\u001b[0m\u001b[0m\n\u001b[1;32m     43\u001b[0m \u001b[0mzurich_south_90\u001b[0m \u001b[1;33m=\u001b[0m \u001b[0msort_stringint\u001b[0m\u001b[1;33m(\u001b[0m\u001b[0mzurich_south_90\u001b[0m\u001b[1;33m,\u001b[0m \u001b[1;34m'Name'\u001b[0m\u001b[1;33m)\u001b[0m\u001b[1;33m\u001b[0m\u001b[0m\n",
      "\u001b[0;32mC:\\Users\\Zghiru\\Anaconda2\\lib\\site-packages\\pandas\\io\\parsers.pyc\u001b[0m in \u001b[0;36mparser_f\u001b[0;34m(filepath_or_buffer, sep, delimiter, header, names, index_col, usecols, squeeze, prefix, mangle_dupe_cols, dtype, engine, converters, true_values, false_values, skipinitialspace, skiprows, skipfooter, nrows, na_values, keep_default_na, na_filter, verbose, skip_blank_lines, parse_dates, infer_datetime_format, keep_date_col, date_parser, dayfirst, iterator, chunksize, compression, thousands, decimal, lineterminator, quotechar, quoting, escapechar, comment, encoding, dialect, tupleize_cols, error_bad_lines, warn_bad_lines, skip_footer, doublequote, delim_whitespace, as_recarray, compact_ints, use_unsigned, low_memory, buffer_lines, memory_map, float_precision)\u001b[0m\n\u001b[1;32m    560\u001b[0m                     skip_blank_lines=skip_blank_lines)\n\u001b[1;32m    561\u001b[0m \u001b[1;33m\u001b[0m\u001b[0m\n\u001b[0;32m--> 562\u001b[0;31m         \u001b[1;32mreturn\u001b[0m \u001b[0m_read\u001b[0m\u001b[1;33m(\u001b[0m\u001b[0mfilepath_or_buffer\u001b[0m\u001b[1;33m,\u001b[0m \u001b[0mkwds\u001b[0m\u001b[1;33m)\u001b[0m\u001b[1;33m\u001b[0m\u001b[0m\n\u001b[0m\u001b[1;32m    563\u001b[0m \u001b[1;33m\u001b[0m\u001b[0m\n\u001b[1;32m    564\u001b[0m     \u001b[0mparser_f\u001b[0m\u001b[1;33m.\u001b[0m\u001b[0m__name__\u001b[0m \u001b[1;33m=\u001b[0m \u001b[0mname\u001b[0m\u001b[1;33m\u001b[0m\u001b[0m\n",
      "\u001b[0;32mC:\\Users\\Zghiru\\Anaconda2\\lib\\site-packages\\pandas\\io\\parsers.pyc\u001b[0m in \u001b[0;36m_read\u001b[0;34m(filepath_or_buffer, kwds)\u001b[0m\n\u001b[1;32m    313\u001b[0m \u001b[1;33m\u001b[0m\u001b[0m\n\u001b[1;32m    314\u001b[0m     \u001b[1;31m# Create the parser.\u001b[0m\u001b[1;33m\u001b[0m\u001b[1;33m\u001b[0m\u001b[0m\n\u001b[0;32m--> 315\u001b[0;31m     \u001b[0mparser\u001b[0m \u001b[1;33m=\u001b[0m \u001b[0mTextFileReader\u001b[0m\u001b[1;33m(\u001b[0m\u001b[0mfilepath_or_buffer\u001b[0m\u001b[1;33m,\u001b[0m \u001b[1;33m**\u001b[0m\u001b[0mkwds\u001b[0m\u001b[1;33m)\u001b[0m\u001b[1;33m\u001b[0m\u001b[0m\n\u001b[0m\u001b[1;32m    316\u001b[0m \u001b[1;33m\u001b[0m\u001b[0m\n\u001b[1;32m    317\u001b[0m     \u001b[1;32mif\u001b[0m \u001b[1;33m(\u001b[0m\u001b[0mnrows\u001b[0m \u001b[1;32mis\u001b[0m \u001b[1;32mnot\u001b[0m \u001b[0mNone\u001b[0m\u001b[1;33m)\u001b[0m \u001b[1;32mand\u001b[0m \u001b[1;33m(\u001b[0m\u001b[0mchunksize\u001b[0m \u001b[1;32mis\u001b[0m \u001b[1;32mnot\u001b[0m \u001b[0mNone\u001b[0m\u001b[1;33m)\u001b[0m\u001b[1;33m:\u001b[0m\u001b[1;33m\u001b[0m\u001b[0m\n",
      "\u001b[0;32mC:\\Users\\Zghiru\\Anaconda2\\lib\\site-packages\\pandas\\io\\parsers.pyc\u001b[0m in \u001b[0;36m__init__\u001b[0;34m(self, f, engine, **kwds)\u001b[0m\n\u001b[1;32m    643\u001b[0m             \u001b[0mself\u001b[0m\u001b[1;33m.\u001b[0m\u001b[0moptions\u001b[0m\u001b[1;33m[\u001b[0m\u001b[1;34m'has_index_names'\u001b[0m\u001b[1;33m]\u001b[0m \u001b[1;33m=\u001b[0m \u001b[0mkwds\u001b[0m\u001b[1;33m[\u001b[0m\u001b[1;34m'has_index_names'\u001b[0m\u001b[1;33m]\u001b[0m\u001b[1;33m\u001b[0m\u001b[0m\n\u001b[1;32m    644\u001b[0m \u001b[1;33m\u001b[0m\u001b[0m\n\u001b[0;32m--> 645\u001b[0;31m         \u001b[0mself\u001b[0m\u001b[1;33m.\u001b[0m\u001b[0m_make_engine\u001b[0m\u001b[1;33m(\u001b[0m\u001b[0mself\u001b[0m\u001b[1;33m.\u001b[0m\u001b[0mengine\u001b[0m\u001b[1;33m)\u001b[0m\u001b[1;33m\u001b[0m\u001b[0m\n\u001b[0m\u001b[1;32m    646\u001b[0m \u001b[1;33m\u001b[0m\u001b[0m\n\u001b[1;32m    647\u001b[0m     \u001b[1;32mdef\u001b[0m \u001b[0mclose\u001b[0m\u001b[1;33m(\u001b[0m\u001b[0mself\u001b[0m\u001b[1;33m)\u001b[0m\u001b[1;33m:\u001b[0m\u001b[1;33m\u001b[0m\u001b[0m\n",
      "\u001b[0;32mC:\\Users\\Zghiru\\Anaconda2\\lib\\site-packages\\pandas\\io\\parsers.pyc\u001b[0m in \u001b[0;36m_make_engine\u001b[0;34m(self, engine)\u001b[0m\n\u001b[1;32m    797\u001b[0m     \u001b[1;32mdef\u001b[0m \u001b[0m_make_engine\u001b[0m\u001b[1;33m(\u001b[0m\u001b[0mself\u001b[0m\u001b[1;33m,\u001b[0m \u001b[0mengine\u001b[0m\u001b[1;33m=\u001b[0m\u001b[1;34m'c'\u001b[0m\u001b[1;33m)\u001b[0m\u001b[1;33m:\u001b[0m\u001b[1;33m\u001b[0m\u001b[0m\n\u001b[1;32m    798\u001b[0m         \u001b[1;32mif\u001b[0m \u001b[0mengine\u001b[0m \u001b[1;33m==\u001b[0m \u001b[1;34m'c'\u001b[0m\u001b[1;33m:\u001b[0m\u001b[1;33m\u001b[0m\u001b[0m\n\u001b[0;32m--> 799\u001b[0;31m             \u001b[0mself\u001b[0m\u001b[1;33m.\u001b[0m\u001b[0m_engine\u001b[0m \u001b[1;33m=\u001b[0m \u001b[0mCParserWrapper\u001b[0m\u001b[1;33m(\u001b[0m\u001b[0mself\u001b[0m\u001b[1;33m.\u001b[0m\u001b[0mf\u001b[0m\u001b[1;33m,\u001b[0m \u001b[1;33m**\u001b[0m\u001b[0mself\u001b[0m\u001b[1;33m.\u001b[0m\u001b[0moptions\u001b[0m\u001b[1;33m)\u001b[0m\u001b[1;33m\u001b[0m\u001b[0m\n\u001b[0m\u001b[1;32m    800\u001b[0m         \u001b[1;32melse\u001b[0m\u001b[1;33m:\u001b[0m\u001b[1;33m\u001b[0m\u001b[0m\n\u001b[1;32m    801\u001b[0m             \u001b[1;32mif\u001b[0m \u001b[0mengine\u001b[0m \u001b[1;33m==\u001b[0m \u001b[1;34m'python'\u001b[0m\u001b[1;33m:\u001b[0m\u001b[1;33m\u001b[0m\u001b[0m\n",
      "\u001b[0;32mC:\\Users\\Zghiru\\Anaconda2\\lib\\site-packages\\pandas\\io\\parsers.pyc\u001b[0m in \u001b[0;36m__init__\u001b[0;34m(self, src, **kwds)\u001b[0m\n\u001b[1;32m   1211\u001b[0m         \u001b[0mkwds\u001b[0m\u001b[1;33m[\u001b[0m\u001b[1;34m'allow_leading_cols'\u001b[0m\u001b[1;33m]\u001b[0m \u001b[1;33m=\u001b[0m \u001b[0mself\u001b[0m\u001b[1;33m.\u001b[0m\u001b[0mindex_col\u001b[0m \u001b[1;32mis\u001b[0m \u001b[1;32mnot\u001b[0m \u001b[0mFalse\u001b[0m\u001b[1;33m\u001b[0m\u001b[0m\n\u001b[1;32m   1212\u001b[0m \u001b[1;33m\u001b[0m\u001b[0m\n\u001b[0;32m-> 1213\u001b[0;31m         \u001b[0mself\u001b[0m\u001b[1;33m.\u001b[0m\u001b[0m_reader\u001b[0m \u001b[1;33m=\u001b[0m \u001b[0m_parser\u001b[0m\u001b[1;33m.\u001b[0m\u001b[0mTextReader\u001b[0m\u001b[1;33m(\u001b[0m\u001b[0msrc\u001b[0m\u001b[1;33m,\u001b[0m \u001b[1;33m**\u001b[0m\u001b[0mkwds\u001b[0m\u001b[1;33m)\u001b[0m\u001b[1;33m\u001b[0m\u001b[0m\n\u001b[0m\u001b[1;32m   1214\u001b[0m \u001b[1;33m\u001b[0m\u001b[0m\n\u001b[1;32m   1215\u001b[0m         \u001b[1;31m# XXX\u001b[0m\u001b[1;33m\u001b[0m\u001b[1;33m\u001b[0m\u001b[0m\n",
      "\u001b[0;32mpandas\\parser.pyx\u001b[0m in \u001b[0;36mpandas.parser.TextReader.__cinit__ (pandas\\parser.c:3427)\u001b[0;34m()\u001b[0m\n",
      "\u001b[0;32mpandas\\parser.pyx\u001b[0m in \u001b[0;36mpandas.parser.TextReader._setup_parser_source (pandas\\parser.c:6861)\u001b[0;34m()\u001b[0m\n",
      "\u001b[0;31mIOError\u001b[0m: File C:\\Users\\Zghiru\\Documents\\GitHub\\ASF_Simulation\\Simulation_Tool\\New_SimulationEnvironment\\CEA_Archetypes_CH\\Archetypes_Zurich_South_90.csv does not exist"
     ]
    }
   ],
   "source": [
    "#CS\n",
    "\n",
    "cairo_south = pd.read_csv(filepath('Archetypes_Cairo_South.csv'))\n",
    "postprocess_results(cairo_south)\n",
    "cairo_south = sort_stringint(cairo_south, 'Name')\n",
    "#cairo_south = cairo_south.sort_values(['H'], inplace=False, ascending=True)\n",
    "\n",
    "cairo_south_45 = pd.read_csv(filepath('Archetypes_Cairo_South_45.csv'))\n",
    "postprocess_results(cairo_south_45)\n",
    "cairo_south_45 = sort_stringint(cairo_south_45, 'Name')\n",
    "\n",
    "cairo_south_90 = pd.read_csv(filepath('Archetypes_Cairo_South_90.csv'))\n",
    "postprocess_results(cairo_south_90)\n",
    "cairo_south_90 = sort_stringint(cairo_south_90, 'Name')\n",
    "\n",
    "#CW\n",
    "\n",
    "cairo_west = pd.read_csv(filepath('Archetypes_Cairo_west.csv'))\n",
    "postprocess_results(cairo_west)\n",
    "cairo_west = sort_stringint(cairo_west, 'Name')\n",
    "#cairo_south = cairo_south.sort_values(['H'], inplace=False, ascending=True)\n",
    "\n",
    "cairo_west_45 = pd.read_csv(filepath('Archetypes_Cairo_west_45.csv'))\n",
    "postprocess_results(cairo_west_45)\n",
    "cairo_west_45 = sort_stringint(cairo_west_45, 'Name')\n",
    "\n",
    "cairo_west_90 = pd.read_csv(filepath('Archetypes_Cairo_west_90.csv'))\n",
    "postprocess_results(cairo_west_90)\n",
    "cairo_west_90 = sort_stringint(cairo_west_90, 'Name')\n",
    "\n",
    "#ZS\n",
    "\n",
    "zurich_south = pd.read_csv(filepath('Archetypes_Zurich_South.csv'))\n",
    "postprocess_results(zurich_south)\n",
    "zurich_south = sort_stringint(zurich_south, 'Name')\n",
    "#cairo_south = cairo_south.sort_values(['H'], inplace=False, ascending=True)\n",
    "zurich_south_45 = pd.read_csv(filepath('Archetypes_Zurich_South_45.csv'))\n",
    "postprocess_results(zurich_south_45)\n",
    "zurich_south_45 = sort_stringint(zurich_south_45, 'Name')\n",
    "\n",
    "# zurich_south_90 = pd.read_csv(filepath('Archetypes_Zurich_South_90.csv'))\n",
    "# postprocess_results(zurich_south_90)\n",
    "# zurich_south_90 = sort_stringint(zurich_south_90, 'Name')\n",
    "\n",
    "#ZW\n",
    "\n",
    "# zurich_west = pd.read_csv(filepath('Archetypes_Zurich_west.csv'))\n",
    "# postprocess_results(zurich_west)\n",
    "# zurich_west = sort_stringint(zurich_west, 'Name')\n",
    "# #cairo_south = cairo_south.sort_values(['H'], inplace=False, ascending=True)\n",
    "\n",
    "# zurich_west_45 = pd.read_csv(filepath('Archetypes_Zurich_west_45.csv'))\n",
    "# postprocess_results(zurich_west_45)\n",
    "# zurich_west_45 = sort_stringint(zurich_west_45, 'Name')\n",
    "\n",
    "# zurich_west_90 = pd.read_csv(filepath('Archetypes_Zurich_west_90.csv'))\n",
    "# postprocess_results(zurich_west_90)\n",
    "# zurich_west_90 = sort_stringint(zurich_west_90, 'Name')\n",
    "\n",
    "#================================\n",
    "#\n",
    "cw = cairo_west.drop(['Name'],axis=1)\n",
    "cw_45 = cairo_west_45.drop(['Name'],axis=1)\n",
    "cw_90 = cairo_west_90.drop(['Name'],axis=1)\n",
    "\n",
    "cs = cairo_south.drop(['Name'],axis=1)\n",
    "cs_45 = cairo_south_45.drop(['Name'],axis=1)\n",
    "cs_90 = cairo_south_90.drop(['Name'],axis=1)\n",
    "cairo_WS = cs.subtract(cw)\n",
    "\n",
    "# cairo_WS[\"Name\"]=cairo_south[\"Name\"]\n",
    "\n",
    "# zurich_south = pd.read_csv(filepath('Archetypes_Zurich_South.csv'))\n",
    "# zurich_south = split_Name_char_num(zurich_south)\n",
    "# zurich_south = zurich_south.loc[zurich_south['Name'].isin(b_props.Name)]\n",
    "# zurich_south.sort_values(['occtype','typenum'],ascending=[False,True])\n",
    "# \"\"\"\n",
    "\n"
   ]
  },
  {
   "cell_type": "code",
   "execution_count": 114,
   "metadata": {
    "collapsed": false
   },
   "outputs": [
    {
     "data": {
      "text/html": [
       "<iframe id=\"igraph\" scrolling=\"no\" style=\"border:none;\" seamless=\"seamless\" src=\"https://plot.ly/~JustinZarb/4.embed\" height=\"525px\" width=\"100%\"></iframe>"
      ],
      "text/plain": [
       "<plotly.tools.PlotlyDisplay object>"
      ]
     },
     "execution_count": 114,
     "metadata": {},
     "output_type": "execute_result"
    }
   ],
   "source": [
    "# E_HCL across the different orientations\n",
    "### SUBTRACT PV\n",
    "zurich = go.Scatter(\n",
    "    x=zurich_south.Name,\n",
    "    y=zurich_south.E_HCL,\n",
    "    fill='tonexty',\n",
    "    name='Zurich_South'\n",
    ")\n",
    "cairosouth = go.Scatter(\n",
    "    x=cairo_south.Name,\n",
    "    y=cairo_south.E_HCL,\n",
    "    fill='tonexty',\n",
    "    name='Cairo_South'\n",
    ")\n",
    "cairowest = go.Scatter(\n",
    "    x=cairo_west.Name,\n",
    "    y=cairo_west.E_HCL,\n",
    "    fill='tonexty',\n",
    "    name='Cairo_west'\n",
    ")\n",
    "\n",
    "data = [zurich,cairosouth,cairowest]\n",
    "\n",
    "layout = go.Layout(\n",
    "    title='E_HCL',\n",
    "    xaxis=dict(\n",
    "        title='Archetype',\n",
    "        titlefont=dict(\n",
    "            family='Courier New, monospace',\n",
    "            size=18,\n",
    "            color='#7f7f7f'\n",
    "        )\n",
    "    ),\n",
    "    yaxis=dict(\n",
    "        title='MWH/year',\n",
    "        titlefont=dict(\n",
    "            family='Courier New, monospace',\n",
    "            size=18,\n",
    "            color='#7f7f7f'\n",
    "        )\n",
    "    )\n",
    ")\n",
    "fig = go.Figure(data=data, layout=layout)\n",
    "py.iplot(fig, filename='new')"
   ]
  },
  {
   "cell_type": "code",
   "execution_count": 66,
   "metadata": {
    "collapsed": false
   },
   "outputs": [
    {
     "data": {
      "text/html": [
       "<iframe id=\"igraph\" scrolling=\"no\" style=\"border:none;\" seamless=\"seamless\" src=\"https://plot.ly/~JustinZarb/4.embed\" height=\"525px\" width=\"100%\"></iframe>"
      ],
      "text/plain": [
       "<plotly.tools.PlotlyDisplay object>"
      ]
     },
     "execution_count": 66,
     "metadata": {},
     "output_type": "execute_result"
    }
   ],
   "source": [
    "#Cairo West-south comparison\n",
    "\n",
    "cws1 = go.Scatter(\n",
    "    x=cairo_WS.Name,\n",
    "    y=cairo_WS.L,\n",
    "    fill='tonexty',\n",
    "    name='Lighting'\n",
    ")\n",
    "cws2 = go.Scatter(\n",
    "    x=cairo_WS.Name,\n",
    "    y=cairo_WS.H,\n",
    "    fill='tonexty',\n",
    "    name='Heating'\n",
    ")\n",
    "cws3 = go.Scatter(\n",
    "    x=cairo_WS.Name,\n",
    "    y=cairo_WS.C,\n",
    "    fill='tonexty',\n",
    "    name='Cooling'\n",
    ")\n",
    "cws4 = go.Scatter(\n",
    "    x=cairo_WS.Name,\n",
    "    y=cairo_WS.E,\n",
    "    fill='tonexty',\n",
    "    name='Electricity'\n",
    ")\n",
    "cws5 = go.Scatter(\n",
    "    x=cairo_WS.Name,\n",
    "    y=cairo_WS.E_HCL,\n",
    "    fill='tonexty',\n",
    "    name='Total Energy'\n",
    ")\n",
    "\n",
    "cws6 = go.Scatter(\n",
    "    x=cairo_WS.Name,\n",
    "    y=cairo_WS.PV,\n",
    "    fill='tonexty',\n",
    "    name='PV Generation'\n",
    ")\n",
    "\n",
    "\n",
    "data = [cws1,cws2,cws3,cws4,cws5,cws6]\n",
    "\n",
    "\n",
    "py.iplot(data, filename='horizontal-bar')\n",
    "layout = go.Layout(\n",
    "    title='Difference between West and South-oriented rooms in Cairo',\n",
    "    xaxis=dict(\n",
    "        title='Archetype',\n",
    "        titlefont=dict(\n",
    "            family='Courier New, monospace',\n",
    "            size=18,\n",
    "            color='#7f7f7f'\n",
    "        )\n",
    "    ),\n",
    "    yaxis=dict(\n",
    "        title='MWH/year',\n",
    "        titlefont=dict(\n",
    "            family='Courier New, monospace',\n",
    "            size=18,\n",
    "            color='#7f7f7f'\n",
    "        )\n",
    "    )\n",
    ")\n",
    "fig = go.Figure(data=data, layout=layout)\n",
    "py.iplot(fig, filename='new')"
   ]
  },
  {
   "cell_type": "code",
   "execution_count": 63,
   "metadata": {
    "collapsed": false
   },
   "outputs": [
    {
     "data": {
      "text/html": [
       "<iframe id=\"igraph\" scrolling=\"no\" style=\"border:none;\" seamless=\"seamless\" src=\"https://plot.ly/~JustinZarb/8.embed\" height=\"525px\" width=\"100%\"></iframe>"
      ],
      "text/plain": [
       "<plotly.tools.PlotlyDisplay object>"
      ]
     },
     "execution_count": 63,
     "metadata": {},
     "output_type": "execute_result"
    }
   ],
   "source": [
    "#horizontal stacked barchart for Zurich South\n",
    "\n",
    "import plotly.plotly as py\n",
    "import plotly.graph_objs as go\n",
    "\n",
    "zsl = go.Bar(\n",
    "    x=zurich_south.L,\n",
    "    y=zurich_south.Name,\n",
    "    name='Lighting',\n",
    "    orientation = 'h'\n",
    ")\n",
    "zsh = go.Bar(\n",
    "    x=zurich_south.H,\n",
    "    y=zurich_south.Name,\n",
    "    name='Heating',\n",
    "    orientation = 'h'\n",
    ")\n",
    "zsc = go.Bar(\n",
    "    x=zurich_south.C,\n",
    "    y=zurich_south.Name,\n",
    "    name='Cooling',\n",
    "    orientation = 'h'\n",
    ")\n",
    "zse = go.Bar(\n",
    "    x=zurich_south.E,\n",
    "    y=zurich_south.Name,\n",
    "    name='Electricity',\n",
    "    orientation = 'h'\n",
    ")\n",
    "\n",
    "data = [zsh,zsc,zsl,zse]\n",
    "layout = go.Layout(\n",
    "    barmode='stack',\n",
    ")\n",
    "\n",
    "fig = go.Figure(data=data, layout=layout)\n",
    "py.iplot(fig, filename='Zurich South')\n"
   ]
  },
  {
   "cell_type": "code",
   "execution_count": 115,
   "metadata": {
    "collapsed": false
   },
   "outputs": [
    {
     "data": {
      "text/html": [
       "<iframe id=\"igraph\" scrolling=\"no\" style=\"border:none;\" seamless=\"seamless\" src=\"https://plot.ly/~JustinZarb/10.embed\" height=\"525px\" width=\"100%\"></iframe>"
      ],
      "text/plain": [
       "<plotly.tools.PlotlyDisplay object>"
      ]
     },
     "execution_count": 115,
     "metadata": {},
     "output_type": "execute_result"
    }
   ],
   "source": [
    "import plotly.plotly as py\n",
    "import plotly.graph_objs as go\n",
    "\n",
    "zsl = go.Bar(\n",
    "    x=zurich_south.Name,\n",
    "    y=zurich_south.L,\n",
    "    name='Lighting',\n",
    ")\n",
    "zsh = go.Bar(\n",
    "    x=zurich_south.Name,\n",
    "    y=zurich_south.H,\n",
    "    name='Heating',\n",
    ")\n",
    "zsc = go.Bar(\n",
    "    x=zurich_south.Name,\n",
    "    y=zurich_south.C,\n",
    "    name='Cooling',\n",
    ")\n",
    "zse = go.Bar(\n",
    "    x=zurich_south.Name,\n",
    "    y=zurich_south.E,\n",
    "    name='Electricity',\n",
    ")\n",
    "\n",
    "data = [zsh,zsc,zsl,zse]\n",
    "layout = go.Layout(\n",
    "    barmode='stack',\n",
    ")\n",
    "\n",
    "fig = go.Figure(data=data, layout=layout)\n",
    "py.iplot(fig, filename='Zurich South_vertical')\n"
   ]
  },
  {
   "cell_type": "code",
   "execution_count": 68,
   "metadata": {
    "collapsed": false
   },
   "outputs": [
    {
     "data": {
      "text/html": [
       "<iframe id=\"igraph\" scrolling=\"no\" style=\"border:none;\" seamless=\"seamless\" src=\"https://plot.ly/~JustinZarb/14.embed\" height=\"600px\" width=\"600px\"></iframe>"
      ],
      "text/plain": [
       "<plotly.tools.PlotlyDisplay object>"
      ]
     },
     "execution_count": 68,
     "metadata": {},
     "output_type": "execute_result"
    }
   ],
   "source": [
    "import numpy as np\n",
    "\n",
    "t = np.linspace(-1, 1.2, 2000)\n",
    "x = cairo_south.E_HCL\n",
    "y = cairo_west.E_HCL\n",
    "\n",
    "\n",
    "colorscale = ['#7A4579', '#D56073', 'rgb(236,158,105)', (1, 1, 0.2), (0.98,0.98,0.98)]\n",
    "\n",
    "fig = FF.create_2D_density(\n",
    "    x, y, colorscale=colorscale,\n",
    "    hist_color='rgb(255, 237, 222)', point_size=3\n",
    ")\n",
    "\n",
    "py.iplot(fig, filename='CAIRO West vs South')"
   ]
  }
 ],
 "metadata": {
  "anaconda-cloud": {},
  "kernelspec": {
   "display_name": "Python [conda root]",
   "language": "python",
   "name": "conda-root-py"
  },
  "language_info": {
   "codemirror_mode": {
    "name": "ipython",
    "version": 2
   },
   "file_extension": ".py",
   "mimetype": "text/x-python",
   "name": "python",
   "nbconvert_exporter": "python",
   "pygments_lexer": "ipython2",
   "version": "2.7.12"
  }
 },
 "nbformat": 4,
 "nbformat_minor": 1
}
