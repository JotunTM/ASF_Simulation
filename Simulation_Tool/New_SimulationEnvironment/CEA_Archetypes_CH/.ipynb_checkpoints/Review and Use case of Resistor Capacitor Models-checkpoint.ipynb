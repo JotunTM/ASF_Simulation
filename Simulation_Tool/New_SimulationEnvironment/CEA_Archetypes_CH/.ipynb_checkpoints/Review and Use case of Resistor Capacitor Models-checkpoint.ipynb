{
 "cells": [
  {
   "cell_type": "markdown",
   "metadata": {},
   "source": [
    "1R-1C model\n"
   ]
  },
  {
   "cell_type": "markdown",
   "metadata": {},
   "source": [
    "3R-1C model"
   ]
  },
  {
   "cell_type": "markdown",
   "metadata": {},
   "source": [
    "5R-1C model (ISO7751)"
   ]
  },
  {
   "cell_type": "markdown",
   "metadata": {},
   "source": [
    "carpet plot: heating vs cooling\n"
   ]
  },
  {
   "cell_type": "markdown",
   "metadata": {},
   "source": [
    "carpet plot: occupancy vs building age\n"
   ]
  },
  {
   "cell_type": "code",
   "execution_count": 21,
   "metadata": {
    "collapsed": true
   },
   "outputs": [],
   "source": [
    "import pandas as pd\n",
    "import matplotlib.pyplot as plt\n",
    "import datetime\n",
    "import numpy as np\n",
    "import cdecimal as dec\n",
    "import re as re\n",
    "import csv\n",
    "import os, sys\n",
    "import plotly.plotly as py\n",
    "from plotly.tools import FigureFactory as FF\n",
    "import plotly.graph_objs as go\n"
   ]
  },
  {
   "cell_type": "code",
   "execution_count": 17,
   "metadata": {
    "collapsed": false
   },
   "outputs": [],
   "source": [
    "paths = {}\n",
    "def filepath(filename):\n",
    "    paths['main'] = \"C:\\Users\\Zghiru\\Documents\\GitHub\\ASF_Simulation\\Simulation_Tool\\New_SimulationEnvironment\\CEA_Archetypes_CH\"\n",
    "    #os.path.abspath(os.path.dirname(sys.argv[0]))\n",
    "    paths['result'] = os.path.join(paths['main'], filename)  \n",
    "    return paths['result']\n",
    "\n",
    "def split_Name_char_num(dataframe):\n",
    "    occtype=[]\n",
    "    typenum=[]\n",
    "    for name in dataframe.Name: \n",
    "        match = re.match(r\"([a-zA-Z_]+)([0-9]+)\", name, re.I)\n",
    "        if match:\n",
    "            items = match.groups()\n",
    "            occtype.append(items[0])\n",
    "            typenum.append(int(items[1]))\n",
    "    dataframe['occtype'] = pd.DataFrame(occtype)\n",
    "    dataframe['typenum'] = pd.DataFrame(typenum)\n",
    "    dataframe.sort_values(['occtype','typenum'],ascending=[False,True])\n",
    "    return dataframe\n"
   ]
  },
  {
   "cell_type": "code",
   "execution_count": 160,
   "metadata": {
    "collapsed": false
   },
   "outputs": [
    {
     "data": {
      "text/html": [
       "<div>\n",
       "<table border=\"1\" class=\"dataframe\">\n",
       "  <thead>\n",
       "    <tr style=\"text-align: right;\">\n",
       "      <th></th>\n",
       "      <th>Name</th>\n",
       "      <th>C</th>\n",
       "      <th>E</th>\n",
       "      <th>E_HCL</th>\n",
       "      <th>H</th>\n",
       "      <th>L</th>\n",
       "      <th>PV</th>\n",
       "      <th>occtype</th>\n",
       "      <th>typenum</th>\n",
       "    </tr>\n",
       "  </thead>\n",
       "  <tbody>\n",
       "    <tr>\n",
       "      <th>4</th>\n",
       "      <td>SINGLE_RES5</td>\n",
       "      <td>743.189814</td>\n",
       "      <td>3444.209304</td>\n",
       "      <td>4141.932006</td>\n",
       "      <td>1632.089136</td>\n",
       "      <td>1766.653056</td>\n",
       "      <td>-697.722702</td>\n",
       "      <td>SINGLE_RES</td>\n",
       "      <td>5</td>\n",
       "    </tr>\n",
       "    <tr>\n",
       "      <th>50</th>\n",
       "      <td>SCHOOL5</td>\n",
       "      <td>649.031541</td>\n",
       "      <td>820.696347</td>\n",
       "      <td>1525.427013</td>\n",
       "      <td>792.360472</td>\n",
       "      <td>84.035000</td>\n",
       "      <td>-704.730666</td>\n",
       "      <td>SCHOOL</td>\n",
       "      <td>5</td>\n",
       "    </tr>\n",
       "    <tr>\n",
       "      <th>22</th>\n",
       "      <td>RETAIL5</td>\n",
       "      <td>1000.988917</td>\n",
       "      <td>1892.718253</td>\n",
       "      <td>2608.506144</td>\n",
       "      <td>595.536887</td>\n",
       "      <td>1011.980340</td>\n",
       "      <td>-715.787891</td>\n",
       "      <td>RETAIL</td>\n",
       "      <td>5</td>\n",
       "    </tr>\n",
       "    <tr>\n",
       "      <th>100</th>\n",
       "      <td>RESTAURANT5</td>\n",
       "      <td>1412.420189</td>\n",
       "      <td>1840.804255</td>\n",
       "      <td>2576.718163</td>\n",
       "      <td>544.582724</td>\n",
       "      <td>619.715250</td>\n",
       "      <td>-735.913907</td>\n",
       "      <td>RESTAURANT</td>\n",
       "      <td>5</td>\n",
       "    </tr>\n",
       "    <tr>\n",
       "      <th>76</th>\n",
       "      <td>OFFICE5</td>\n",
       "      <td>937.546971</td>\n",
       "      <td>1457.402020</td>\n",
       "      <td>2152.135107</td>\n",
       "      <td>976.806816</td>\n",
       "      <td>237.781320</td>\n",
       "      <td>-694.733087</td>\n",
       "      <td>OFFICE</td>\n",
       "      <td>5</td>\n",
       "    </tr>\n",
       "    <tr>\n",
       "      <th>36</th>\n",
       "      <td>MULTI_RES5</td>\n",
       "      <td>800.417356</td>\n",
       "      <td>3457.914539</td>\n",
       "      <td>4157.822834</td>\n",
       "      <td>1560.617128</td>\n",
       "      <td>1796.788350</td>\n",
       "      <td>-699.908295</td>\n",
       "      <td>MULTI_RES</td>\n",
       "      <td>5</td>\n",
       "    </tr>\n",
       "    <tr>\n",
       "      <th>45</th>\n",
       "      <td>INDUSTRIAL5</td>\n",
       "      <td>1321.063470</td>\n",
       "      <td>3551.130908</td>\n",
       "      <td>4292.789399</td>\n",
       "      <td>1137.914159</td>\n",
       "      <td>1833.811770</td>\n",
       "      <td>-741.658491</td>\n",
       "      <td>INDUSTRIAL</td>\n",
       "      <td>5</td>\n",
       "    </tr>\n",
       "    <tr>\n",
       "      <th>82</th>\n",
       "      <td>HOTEL5</td>\n",
       "      <td>1029.354370</td>\n",
       "      <td>1932.415652</td>\n",
       "      <td>2647.024028</td>\n",
       "      <td>1077.406928</td>\n",
       "      <td>540.262730</td>\n",
       "      <td>-714.608376</td>\n",
       "      <td>HOTEL</td>\n",
       "      <td>5</td>\n",
       "    </tr>\n",
       "    <tr>\n",
       "      <th>120</th>\n",
       "      <td>HOSPITAL5</td>\n",
       "      <td>1725.303263</td>\n",
       "      <td>3930.677691</td>\n",
       "      <td>4668.712757</td>\n",
       "      <td>969.753194</td>\n",
       "      <td>1973.656300</td>\n",
       "      <td>-738.035067</td>\n",
       "      <td>HOSPITAL</td>\n",
       "      <td>5</td>\n",
       "    </tr>\n",
       "    <tr>\n",
       "      <th>67</th>\n",
       "      <td>GYM5</td>\n",
       "      <td>2579.395660</td>\n",
       "      <td>2913.311691</td>\n",
       "      <td>3672.818733</td>\n",
       "      <td>276.757223</td>\n",
       "      <td>816.665850</td>\n",
       "      <td>-759.507041</td>\n",
       "      <td>GYM</td>\n",
       "      <td>5</td>\n",
       "    </tr>\n",
       "    <tr>\n",
       "      <th>58</th>\n",
       "      <td>FOODSTORE5</td>\n",
       "      <td>2394.077315</td>\n",
       "      <td>2652.250280</td>\n",
       "      <td>3353.748443</td>\n",
       "      <td>677.045988</td>\n",
       "      <td>282.625140</td>\n",
       "      <td>-701.498162</td>\n",
       "      <td>FOODSTORE</td>\n",
       "      <td>5</td>\n",
       "    </tr>\n",
       "  </tbody>\n",
       "</table>\n",
       "</div>"
      ],
      "text/plain": [
       "            Name            C            E        E_HCL            H  \\\n",
       "4    SINGLE_RES5   743.189814  3444.209304  4141.932006  1632.089136   \n",
       "50       SCHOOL5   649.031541   820.696347  1525.427013   792.360472   \n",
       "22       RETAIL5  1000.988917  1892.718253  2608.506144   595.536887   \n",
       "100  RESTAURANT5  1412.420189  1840.804255  2576.718163   544.582724   \n",
       "76       OFFICE5   937.546971  1457.402020  2152.135107   976.806816   \n",
       "36    MULTI_RES5   800.417356  3457.914539  4157.822834  1560.617128   \n",
       "45   INDUSTRIAL5  1321.063470  3551.130908  4292.789399  1137.914159   \n",
       "82        HOTEL5  1029.354370  1932.415652  2647.024028  1077.406928   \n",
       "120    HOSPITAL5  1725.303263  3930.677691  4668.712757   969.753194   \n",
       "67          GYM5  2579.395660  2913.311691  3672.818733   276.757223   \n",
       "58    FOODSTORE5  2394.077315  2652.250280  3353.748443   677.045988   \n",
       "\n",
       "               L          PV     occtype  typenum  \n",
       "4    1766.653056 -697.722702  SINGLE_RES        5  \n",
       "50     84.035000 -704.730666      SCHOOL        5  \n",
       "22   1011.980340 -715.787891      RETAIL        5  \n",
       "100   619.715250 -735.913907  RESTAURANT        5  \n",
       "76    237.781320 -694.733087      OFFICE        5  \n",
       "36   1796.788350 -699.908295   MULTI_RES        5  \n",
       "45   1833.811770 -741.658491  INDUSTRIAL        5  \n",
       "82    540.262730 -714.608376       HOTEL        5  \n",
       "120  1973.656300 -738.035067    HOSPITAL        5  \n",
       "67    816.665850 -759.507041         GYM        5  \n",
       "58    282.625140 -701.498162   FOODSTORE        5  "
      ]
     },
     "execution_count": 160,
     "metadata": {},
     "output_type": "execute_result"
    }
   ],
   "source": [
    "b_props = pd.read_csv(filepath('b_props.csv'))\n",
    "b_props = b_props[b_props.interval == \"2005-2020\"]\n",
    "b_props = b_props[b_props.type=='construction']\n",
    "\n",
    "cairo_south = pd.read_csv(filepath('Archetypes_Cairo_South.csv'))\n",
    "cairo_south = split_Name_char_num(cairo_south)\n",
    "cairo_south = cairo_south.loc[cairo_south['Name'].isin(b_props.Name)]\n",
    "cairo_south.sort_values(['occtype','typenum'],ascending=[False,True])\n",
    "\n",
    "zurich_south = pd.read_csv(filepath('Archetypes_Zurich_South.csv'))\n",
    "zurich_south = split_Name_char_num(zurich_south)\n",
    "zurich_south = zurich_south.loc[zurich_south['Name'].isin(b_props.Name)]\n",
    "zurich_south.sort_values(['occtype','typenum'],ascending=[False,True])"
   ]
  },
  {
   "cell_type": "code",
   "execution_count": 161,
   "metadata": {
    "collapsed": false
   },
   "outputs": [
    {
     "data": {
      "text/html": [
       "<iframe id=\"igraph\" scrolling=\"no\" style=\"border:none;\" seamless=\"seamless\" src=\"https://plot.ly/~Canhejust/6.embed\" height=\"525px\" width=\"100%\"></iframe>"
      ],
      "text/plain": [
       "<plotly.tools.PlotlyDisplay object>"
      ]
     },
     "execution_count": 161,
     "metadata": {},
     "output_type": "execute_result"
    }
   ],
   "source": [
    "zurich = go.Scatter(\n",
    "    x=zurich_south.Name,\n",
    "    y=zurich_south.E_HCL,\n",
    "    fill='tonexty',\n",
    "    name='Zurich_South'\n",
    ")\n",
    "cairo = go.Scatter(\n",
    "    x=cairo_south.Name,\n",
    "    y=cairo_south.E_HCL,\n",
    "    fill='tonexty',\n",
    "    name='Cairo_South'\n",
    ")\n",
    "\n",
    "data = [zurich,cairo]\n",
    "\n",
    "layout = go.Layout(\n",
    "    title='E_HCL',\n",
    "    xaxis=dict(\n",
    "        title='Archetype',\n",
    "        titlefont=dict(\n",
    "            family='Courier New, monospace',\n",
    "            size=18,\n",
    "            color='#7f7f7f'\n",
    "        )\n",
    "    ),\n",
    "    yaxis=dict(\n",
    "        title='MWH/year',\n",
    "        titlefont=dict(\n",
    "            family='Courier New, monospace',\n",
    "            size=18,\n",
    "            color='#7f7f7f'\n",
    "        )\n",
    "    )\n",
    ")\n",
    "fig = go.Figure(data=data, layout=layout)\n",
    "py.iplot(fig, filename='new')"
   ]
  },
  {
   "cell_type": "code",
   "execution_count": 133,
   "metadata": {
    "collapsed": false
   },
   "outputs": [],
   "source": [
    "def sinplot(flip=1):\n",
    "    x = np.linspace(0, 14, 100)\n",
    "    for i in range(1, 7):\n",
    "        plt.plot(x, np.sin(x + i * .5) * (7 - i) * flip)\n",
    "    \n",
    "import seaborn as sns\n",
    "sinplot()"
   ]
  },
  {
   "cell_type": "code",
   "execution_count": null,
   "metadata": {
    "collapsed": true
   },
   "outputs": [],
   "source": []
  }
 ],
 "metadata": {
  "anaconda-cloud": {},
  "kernelspec": {
   "display_name": "Python [conda root]",
   "language": "python",
   "name": "conda-root-py"
  },
  "language_info": {
   "codemirror_mode": {
    "name": "ipython",
    "version": 2
   },
   "file_extension": ".py",
   "mimetype": "text/x-python",
   "name": "python",
   "nbconvert_exporter": "python",
   "pygments_lexer": "ipython2",
   "version": "2.7.12"
  }
 },
 "nbformat": 4,
 "nbformat_minor": 1
}
