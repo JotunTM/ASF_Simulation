{
 "cells": [
  {
   "cell_type": "code",
   "execution_count": 2,
   "metadata": {
    "collapsed": false
   },
   "outputs": [
    {
     "ename": "SyntaxError",
     "evalue": "invalid syntax (<ipython-input-2-17d7d3027572>, line 1)",
     "output_type": "error",
     "traceback": [
      "\u001b[0;36m  File \u001b[0;32m\"<ipython-input-2-17d7d3027572>\"\u001b[0;36m, line \u001b[0;32m1\u001b[0m\n\u001b[0;31m    1R-1C model\u001b[0m\n\u001b[0m     ^\u001b[0m\n\u001b[0;31mSyntaxError\u001b[0m\u001b[0;31m:\u001b[0m invalid syntax\n"
     ]
    }
   ],
   "source": [
    "1R-1C model\n"
   ]
  },
  {
   "cell_type": "markdown",
   "metadata": {},
   "source": [
    "3R-1C model"
   ]
  },
  {
   "cell_type": "markdown",
   "metadata": {},
   "source": [
    "5R-1C model (ISO7751)"
   ]
  },
  {
   "cell_type": "markdown",
   "metadata": {},
   "source": [
    "carpet plot: heating vs cooling\n"
   ]
  },
  {
   "cell_type": "markdown",
   "metadata": {},
   "source": [
    "carpet plot: occupancy vs building age\n"
   ]
  },
  {
   "cell_type": "code",
   "execution_count": 3,
   "metadata": {
    "collapsed": true
   },
   "outputs": [],
   "source": [
    "import pandas as pd\n",
    "import matplotlib.pyplot as plt\n",
    "import datetime\n",
    "import numpy as np\n",
    "import cdecimal as dec\n",
    "import re as re\n",
    "import csv\n",
    "import os, sys\n",
    "import plotly.plotly as py\n",
    "from plotly.tools import FigureFactory as FF\n",
    "import plotly.graph_objs as go\n"
   ]
  },
  {
   "cell_type": "code",
   "execution_count": 4,
   "metadata": {
    "collapsed": false
   },
   "outputs": [],
   "source": [
    "paths = {}\n",
    "def filepath(filename):\n",
    "    paths['main'] = \"C:\\Users\\Zghiru\\Documents\\GitHub\\ASF_Simulation\\Simulation_Tool\\New_SimulationEnvironment\\CEA_Archetypes_CH\"\n",
    "    #os.path.abspath(os.path.dirname(sys.argv[0]))\n",
    "    paths['result'] = os.path.join(paths['main'], filename)  \n",
    "    return paths['result']\n",
    "\n",
    "def split_Name_char_num(df):\n",
    "    occtype=[]\n",
    "    typenum=[]\n",
    "    for name in df['Name']: \n",
    "        match = re.match(r\"([a-zA-Z_]+)([0-9]+)\", name, re.I)\n",
    "        if match:\n",
    "            items = match.groups()\n",
    "            occtype.append(items[0])\n",
    "            typenum.append(int(items[1]))\n",
    "    df['occtype'] = pd.DataFrame(occtype)\n",
    "    df['typenum'] = pd.DataFrame(typenum)\n",
    "    df.sort_values(['occtype','typenum'],ascending=[False,True])\n",
    "    return df\n",
    "\n",
    "def select_archetypes(df):\n",
    "    b_props = pd.read_csv(filepath('b_props.csv'))\n",
    "    #Select subset of b_props:\n",
    "#     b_props = b_props[b_props.interval =='2005-2020']\n",
    "#     b_props = b_props[b_props.type == 'construction']\n",
    "    df = df.loc[df['Name'].isin(b_props['Name'])]\n",
    "    \n",
    "def sort_stringint(df, column):\n",
    "    df['sortstr'] = df[column].str.extract('([^0-9]+)', expand=False)\n",
    "    df['sortint'] = df[column].str.extract('(\\d+)', expand=False).astype(int)\n",
    "    df.sort_values(['sortstr', 'sortint'], inplace=True, ascending=True)\n",
    "    df = df.drop('sortint', axis=1)\n",
    "    df = df.drop('sortstr', axis=1)\n",
    "    return df"
   ]
  },
  {
   "cell_type": "code",
   "execution_count": 16,
   "metadata": {
    "collapsed": false
   },
   "outputs": [],
   "source": [
    "#Import and process CSV files\n",
    "\n",
    "#CS\n",
    "\n",
    "cairo_south = pd.read_csv(filepath('Archetypes_Cairo_South.csv'))\n",
    "select_archetypes(cairo_south)\n",
    "cairo_south = sort_stringint(cairo_south, 'Name')\n",
    "#cairo_south = cairo_south.sort_values(['H'], inplace=False, ascending=True)\n",
    "\n",
    "cairo_south_45 = pd.read_csv(filepath('Archetypes_Cairo_South_45.csv'))\n",
    "select_archetypes(cairo_south_45)\n",
    "cairo_south_45 = sort_stringint(cairo_south_45, 'Name')\n",
    "\n",
    "cairo_south_90 = pd.read_csv(filepath('Archetypes_Cairo_South_90.csv'))\n",
    "select_archetypes(cairo_south_90)\n",
    "cairo_south_90 = sort_stringint(cairo_south_90, 'Name')\n",
    "\n",
    "#CW\n",
    "\n",
    "cairo_west = pd.read_csv(filepath('Archetypes_Cairo_west.csv'))\n",
    "select_archetypes(cairo_west)\n",
    "cairo_west = sort_stringint(cairo_west, 'Name')\n",
    "#cairo_south = cairo_south.sort_values(['H'], inplace=False, ascending=True)\n",
    "\n",
    "cairo_west_45 = pd.read_csv(filepath('Archetypes_Cairo_west_45.csv'))\n",
    "select_archetypes(cairo_west_45)\n",
    "cairo_west_45 = sort_stringint(cairo_west_45, 'Name')\n",
    "\n",
    "cairo_west_90 = pd.read_csv(filepath('Archetypes_Cairo_west_90.csv'))\n",
    "select_archetypes(cairo_west_90)\n",
    "cairo_west_90 = sort_stringint(cairo_west_90, 'Name')\n",
    "\n",
    "#ZS\n",
    "\n",
    "zurich_south = pd.read_csv(filepath('Archetypes_Zurich_South.csv'))\n",
    "select_archetypes(zurich_south)\n",
    "zurich_south = sort_stringint(zurich_south, 'Name')\n",
    "#cairo_south = cairo_south.sort_values(['H'], inplace=False, ascending=True)\n",
    "zurich_south_45 = pd.read_csv(filepath('Archetypes_Zurich_South_45.csv'))\n",
    "select_archetypes(zurich_south_45)\n",
    "zurich_south_45 = sort_stringint(zurich_south_45, 'Name')\n",
    "\n",
    "zurich_south_90 = pd.read_csv(filepath('Archetypes_Zurich_South_90.csv'))\n",
    "select_archetypes(zurich_south_90)\n",
    "zurich_south_90 = sort_stringint(zurich_south_90, 'Name')\n",
    "\n",
    "#ZW\n",
    "\n",
    "zurich_west = pd.read_csv(filepath('Archetypes_Zurich_west.csv'))\n",
    "select_archetypes(zurich_west)\n",
    "zurich_west = sort_stringint(zurich_west, 'Name')\n",
    "#cairo_south = cairo_south.sort_values(['H'], inplace=False, ascending=True)\n",
    "\n",
    "zurich_west_45 = pd.read_csv(filepath('Archetypes_Zurich_west_45.csv'))\n",
    "select_archetypes(zurich_west_45)\n",
    "zurich_west_45 = sort_stringint(zurich_west_45, 'Name')\n",
    "\n",
    "zurich_west_90 = pd.read_csv(filepath('Archetypes_Zurich_West_90.csv'))\n",
    "select_archetypes(zurich_west_90)\n",
    "zurich_west_90 = sort_stringint(zurich_west_90, 'Name')\n",
    "\n",
    "#================================\n",
    "#CAIRO\n",
    "\n",
    "#CS ASF compare\n",
    "cs = cairo_south.drop('Name',axis=1)\n",
    "cs_45 = cairo_south_45.drop('Name',axis=1)\n",
    "cs_90 = cairo_south_90.drop('Name',axis=1)\n",
    "\n",
    "# cairo_S_asf_45 = cs_45.subtract(cs)\n",
    "cairo_S_asf_45 = (cs_45.subtract(cs)).divide(cs)*100 #Percentage savings\n",
    "cairo_S_asf_45[\"Name\"]=cairo_south[\"Name\"]\n",
    "\n",
    "# cairo_S_asf_90 = cs_90.subtract(cs)\n",
    "cairo_S_asf_90 = (cs_90.subtract(cs)).divide(cs)*100 #Percentage savings\n",
    "cairo_S_asf_90[\"Name\"]=cairo_south[\"Name\"]\n",
    "\n",
    "cs[\"Name\"]=cairo_south[\"Name\"]\n",
    "cs_90[\"Name\"]=cairo_south[\"Name\"]\n",
    "cs_45[\"Name\"]=cairo_south[\"Name\"]\n",
    "# CW ASF compare\n",
    "cw = cairo_west.drop('Name',axis=1)\n",
    "cw_45 = cairo_west_45.drop('Name',axis=1)\n",
    "cw_90 = cairo_west_90.drop('Name',axis=1)\n",
    "\n",
    "# cairo_W_asf_45 = cw_45.subtract(cw)\n",
    "cairo_W_asf_45 = (cw_45.subtract(cw)).divide(cs)*100 #Percentage savings\n",
    "cairo_W_asf_45[\"Name\"]=cairo_west[\"Name\"]\n",
    "\n",
    "# cairo_W_asf_90 = cw_90.subtract(cw)\n",
    "cairo_W_asf_90 = (cw_90.subtract(cw)).divide(cs)*100 #Percentage savings\n",
    "cairo_W_asf_90[\"Name\"]=cairo_west[\"Name\"]\n",
    "\n",
    "# CW CS compare\n",
    "cairo_WS = cs.subtract(cw)\n",
    "cairo_WS[\"Name\"]=cairo_west[\"Name\"]\n",
    "\n",
    "cw[\"Name\"]=cairo_west[\"Name\"]\n",
    "## ZURICH\n",
    "\n",
    "#ZS ASF compare\n",
    "zs = zurich_south.drop('Name',axis=1)\n",
    "zs_45 = zurich_south_45.drop('Name',axis=1)\n",
    "zs_90 = zurich_south_90.drop('Name',axis=1)\n",
    "\n",
    "#zurich_S_asf_45 = zs_45.subtract(zs) # MWh/year\n",
    "zurich_S_asf_45 = (zs_45.subtract(zs)).divide(zs)*100 #Percentage savings\n",
    "zurich_S_asf_45[\"Name\"]=zurich_south[\"Name\"]\n",
    "\n",
    "#zurich_S_asf_90 = zs_90.subtract(zs)\n",
    "zurich_S_asf_90 = (zs_90.subtract(zs)).divide(zs)*100 #Percentage savings\n",
    "zurich_S_asf_90[\"Name\"]=zurich_south[\"Name\"]\n",
    "\n",
    "\n",
    "# ZW ASF compare\n",
    "zw = zurich_west.drop('Name',axis=1)\n",
    "# zw_45 = zurich_west_45.drop('Name',axis=1)\n",
    "# zw_90 = zurich_west_90.drop('Name',axis=1)\n",
    "\n",
    "# #zurich_W_asf_45 = zw_45.subtract(zw)\n",
    "# zurich_W_asf_45 = (zs_45.subtract(zs)).divide(zs)*100 #Percentage savings\n",
    "# zurich_W_asf_45[\"Name\"]=zurich_west[\"Name\"]\n",
    "\n",
    "# #zurich_W_asf_90 = cw_90.subtract(zw)\n",
    "# zurich_w_asf_90 = (zw_90.subtract(zw)).divide(zw)*100 #Percentage savings\n",
    "# zurich_W_asf_90[\"Name\"]=zurich_west[\"Name\"]\n",
    "\n",
    "# ZW ZS compare\n",
    "zurich_WS = zs.subtract(zw)\n",
    "zurich_WS[\"Name\"]=zurich_west[\"Name\"]"
   ]
  },
  {
   "cell_type": "code",
   "execution_count": 6,
   "metadata": {
    "collapsed": false
   },
   "outputs": [
    {
     "name": "stdout",
     "output_type": "stream",
     "text": [
      "              C            E        E_HCL          H          L          PV\n",
      "62  7876.354660  8082.348858  8587.527861  21.835810  689.33739 -505.179002\n",
      "61  7992.794367  8203.373854  8708.552856  26.421098  689.33739 -505.179002\n",
      "60  7903.703886  8123.761406  8628.940408  35.899132  689.33739 -505.179002\n",
      "59  7867.028361  8074.103030  8579.282032  22.916280  689.33739 -505.179002\n",
      "              C            E        E_HCL          H          L          PV\n",
      "62  7876.354660  7853.543355  8587.527861  21.835810  689.33739 -733.984506\n",
      "61  7992.794367  7974.568350  8708.552856  26.421098  689.33739 -733.984506\n",
      "60  7903.703886  7894.955903  8628.940408  35.899132  689.33739 -733.984506\n",
      "59  7867.028361  7845.297526  8579.282032  22.916280  689.33739 -733.984506\n",
      "              C            E        E_HCL           H          L          PV  \\\n",
      "62  4524.676720  4553.355503  5366.931189  152.917079  689.33739 -813.575685   \n",
      "61  4589.218066  4607.476147  5421.051832  142.496376  689.33739 -813.575685   \n",
      "60  4558.758014  4610.422256  5423.997941  175.902538  689.33739 -813.575685   \n",
      "59  4524.133481  4557.836094  5371.411780  157.940908  689.33739 -813.575685   \n",
      "\n",
      "          Name  \n",
      "62  FOODSTORE1  \n",
      "61  FOODSTORE2  \n",
      "60  FOODSTORE3  \n",
      "59  FOODSTORE4  \n",
      "           C         E     E_HCL           H          L         PV        Name\n",
      "62  3.280715  7.487483  3.850352   87.548423  15.943491 -17.450483  FOODSTORE1\n",
      "61  3.307432  7.373855  3.863041   91.813540  15.943491 -17.305312  FOODSTORE2\n",
      "60  3.079005  7.163151  3.666616  134.417295  15.943491 -17.114146  FOODSTORE3\n",
      "59  3.255293  7.466692  3.826567   73.921367  15.943491 -17.449978  FOODSTORE4\n"
     ]
    }
   ],
   "source": [
    "# print zs_45[:4]\n",
    "# print zs[:4]\n",
    "# print zurich_S_asf_45[:4]\n",
    "\n",
    "print cw_90[:4]\n",
    "print cw_45[:4]\n",
    "print cw[:4]\n",
    "print cairo_S_asf_45[:4]"
   ]
  },
  {
   "cell_type": "code",
   "execution_count": 7,
   "metadata": {
    "collapsed": false
   },
   "outputs": [
    {
     "data": {
      "text/html": [
       "<iframe id=\"igraph\" scrolling=\"no\" style=\"border:none;\" seamless=\"seamless\" src=\"https://plot.ly/~JustinZarb/4.embed\" height=\"525px\" width=\"100%\"></iframe>"
      ],
      "text/plain": [
       "<plotly.tools.PlotlyDisplay object>"
      ]
     },
     "execution_count": 7,
     "metadata": {},
     "output_type": "execute_result"
    }
   ],
   "source": [
    "# Total Energy\n",
    "\n",
    "zurichsouth = go.Scatter(\n",
    "    x=zurich_south.Name,\n",
    "    y=(zurich_south.E),\n",
    "    #fill='tonexty',\n",
    "    name='Zurich_South'\n",
    ")\n",
    "zurichwest = go.Scatter(\n",
    "    x=zurich_west.Name,\n",
    "    y=zurich_west.E,\n",
    "    #fill='tonexty',\n",
    "    name='Zurich_West'\n",
    ")\n",
    "cairosouth = go.Scatter(\n",
    "    x=cairo_south.Name,\n",
    "    y=cairo_south.E,\n",
    "    #fill='tonexty',\n",
    "    name='Cairo_South'\n",
    ")\n",
    "cairowest = go.Scatter(\n",
    "    x=cairo_west.Name,\n",
    "    y=cairo_west.E,\n",
    "    #fill='tonexty',\n",
    "    name='Cairo_west'\n",
    ")\n",
    "\n",
    "data = [zurichsouth,zurichwest,cairosouth,cairowest]\n",
    "\n",
    "layout = go.Layout(\n",
    "    title='Total Energy (MWh/Year)',\n",
    "    xaxis=dict(\n",
    "        title='Archetype',\n",
    "        titlefont=dict(\n",
    "            family='Courier New, monospace',\n",
    "            size=18,\n",
    "            color='#7f7f7f'\n",
    "        )\n",
    "    ),\n",
    "    yaxis=dict(\n",
    "        title='kWH/year',\n",
    "        titlefont=dict(\n",
    "            family='Courier New, monospace',\n",
    "            size=18,\n",
    "            color='#7f7f7f'\n",
    "        )\n",
    "    )\n",
    ")\n",
    "fig = go.Figure(data=data, layout=layout)\n",
    "py.iplot(fig, filename='new')"
   ]
  },
  {
   "cell_type": "code",
   "execution_count": 8,
   "metadata": {
    "collapsed": false
   },
   "outputs": [
    {
     "data": {
      "text/html": [
       "<iframe id=\"igraph\" scrolling=\"no\" style=\"border:none;\" seamless=\"seamless\" src=\"https://plot.ly/~JustinZarb/22.embed\" height=\"525px\" width=\"100%\"></iframe>"
      ],
      "text/plain": [
       "<plotly.tools.PlotlyDisplay object>"
      ]
     },
     "execution_count": 8,
     "metadata": {},
     "output_type": "execute_result"
    }
   ],
   "source": [
    "# cairo south comparisons\n",
    "\n",
    "cs = go.Scatter(\n",
    "    x=cs.Name,\n",
    "    y=cs.E,\n",
    "    #fill='tonexty',\n",
    "    name='Cairo_South_ASF'\n",
    ")\n",
    "cs90 = go.Scatter(\n",
    "    x=cs_90.Name,\n",
    "    y=cs_90.E,\n",
    "    #fill='tonexty',\n",
    "    name='Cairo_South_90'\n",
    ")\n",
    "cs45= go.Scatter(\n",
    "    x=cs_45.Name,\n",
    "    y=cs_45.E,\n",
    "    #fill='tonexty',\n",
    "    name='Cairo_South_45'\n",
    ")\n",
    "\n",
    "\n",
    "data = [cs,cs90,cs45]\n",
    "\n",
    "layout = go.Layout(\n",
    "    title='Net Energy (MWh/Year)',\n",
    "    xaxis=dict(\n",
    "        title='Archetype',\n",
    "        titlefont=dict(\n",
    "            family='Courier New, monospace',\n",
    "            size=18,\n",
    "            color='#7f7f7f'\n",
    "        )\n",
    "    ),\n",
    "    yaxis=dict(\n",
    "        title='kWH/year',\n",
    "        titlefont=dict(\n",
    "            family='Courier New, monospace',\n",
    "            size=18,\n",
    "            color='#7f7f7f'\n",
    "        )\n",
    "    )\n",
    ")\n",
    "fig = go.Figure(data=data, layout=layout)\n",
    "py.iplot(fig, filename='cairo south comparison')"
   ]
  },
  {
   "cell_type": "code",
   "execution_count": 23,
   "metadata": {
    "collapsed": false
   },
   "outputs": [
    {
     "data": {
      "text/html": [
       "<iframe id=\"igraph\" scrolling=\"no\" style=\"border:none;\" seamless=\"seamless\" src=\"https://plot.ly/~JustinZarb/4.embed\" height=\"525px\" width=\"100%\"></iframe>"
      ],
      "text/plain": [
       "<plotly.tools.PlotlyDisplay object>"
      ]
     },
     "execution_count": 23,
     "metadata": {},
     "output_type": "execute_result"
    }
   ],
   "source": [
    "#Cairo/Zurich West-south comparison\n",
    "\n",
    "cws = go.Scatter(\n",
    "    x=cairo_WS.Name,\n",
    "    y=cairo_WS.E_HCL-cairo_WS.PV,\n",
    "#     fill='tonexty',\n",
    "    name='Total Energy Difference W-S, Cairo'\n",
    ")\n",
    "zws = go.Scatter(\n",
    "    x=zurich_WS.Name,\n",
    "    y=zurich_WS.E_HCL-cairo_WS.PV,\n",
    "#     fill='tonexty',\n",
    "    name='Total Energy Difference W-S, Zurich'\n",
    ")\n",
    "\n",
    "data = [cws,zws]\n",
    "\n",
    "\n",
    "py.iplot(data, filename='west comparison')\n",
    "layout = go.Layout(\n",
    "    title='Differences between West and South-oriented rooms in Cairo and Zurich',\n",
    "    xaxis=dict(\n",
    "        title='Archetype',\n",
    "        titlefont=dict(\n",
    "            family='Courier New, monospace',\n",
    "            size=18,\n",
    "#             color='#7f7f7f',\n",
    "  \n",
    "        )\n",
    "    ),\n",
    "    yaxis=dict(\n",
    "        title='kWH/year',\n",
    "        titlefont=dict(\n",
    "            family='Courier New, monospace',\n",
    "            size=18,\n",
    "            color='#7f7f7f'\n",
    "        )\n",
    "    )\n",
    ")\n",
    "fig = go.Figure(data=data, layout=layout)\n",
    "py.iplot(fig, filename='new')"
   ]
  },
  {
   "cell_type": "code",
   "execution_count": 27,
   "metadata": {
    "collapsed": false
   },
   "outputs": [
    {
     "data": {
      "text/html": [
       "<iframe id=\"igraph\" scrolling=\"no\" style=\"border:none;\" seamless=\"seamless\" src=\"https://plot.ly/~JustinZarb/8.embed\" height=\"525px\" width=\"100%\"></iframe>"
      ],
      "text/plain": [
       "<plotly.tools.PlotlyDisplay object>"
      ]
     },
     "execution_count": 27,
     "metadata": {},
     "output_type": "execute_result"
    }
   ],
   "source": [
    "# Zurich South Data\n",
    "\n",
    "import plotly.plotly as py\n",
    "import plotly.graph_objs as go\n",
    "\n",
    "zsl = go.Bar(\n",
    "    x=zurich_south.Name,\n",
    "    y=zurich_south.L,\n",
    "    name='Lighting',\n",
    ")\n",
    "zsh = go.Bar(\n",
    "    x=zurich_south.Name,\n",
    "    y=zurich_south.H,\n",
    "    name='Heating',\n",
    ")\n",
    "zsc = go.Bar(\n",
    "    x=zurich_south.Name,\n",
    "    y=zurich_south.C,\n",
    "    name='Cooling',\n",
    ")\n",
    "\n",
    "zspv = go.Bar(\n",
    "    x=zurich_south.Name,\n",
    "    y=zurich_south.PV,\n",
    "    name='PV',\n",
    ")\n",
    "\n",
    "data = [zsh,zsc,zsl,zspv]\n",
    "\n",
    "layout = go.Layout(\n",
    "    title='Zurich South',\n",
    "    barmode='stack',\n",
    "    xaxis=dict(\n",
    "        title='Archetype',\n",
    "        titlefont=dict(\n",
    "            family='Courier New, monospace',\n",
    "            size=18,\n",
    "            color='#7f7f7f',\n",
    "  \n",
    "        )\n",
    "    ),\n",
    "    yaxis=dict(\n",
    "        title='kWH/year',\n",
    "        titlefont=dict(\n",
    "            family='Courier New, monospace',\n",
    "            size=18,\n",
    "            color='#7f7f7f'\n",
    "        )\n",
    "    )\n",
    ")\n",
    "\n",
    "fig = go.Figure(data=data, layout=layout)\n",
    "py.iplot(fig, filename='Zurich South')\n"
   ]
  },
  {
   "cell_type": "code",
   "execution_count": 28,
   "metadata": {
    "collapsed": false
   },
   "outputs": [
    {
     "data": {
      "text/html": [
       "<iframe id=\"igraph\" scrolling=\"no\" style=\"border:none;\" seamless=\"seamless\" src=\"https://plot.ly/~JustinZarb/16.embed\" height=\"525px\" width=\"100%\"></iframe>"
      ],
      "text/plain": [
       "<plotly.tools.PlotlyDisplay object>"
      ]
     },
     "execution_count": 28,
     "metadata": {},
     "output_type": "execute_result"
    }
   ],
   "source": [
    "# Zurich West Data\n",
    "\n",
    "import plotly.plotly as py\n",
    "import plotly.graph_objs as go\n",
    "\n",
    "zwl = go.Bar(\n",
    "    x=zurich_west.Name,\n",
    "    y=zurich_west.L,\n",
    "    name='Lighting',\n",
    ")\n",
    "zwh = go.Bar(\n",
    "    x=zurich_west.Name,\n",
    "    y=zurich_west.H,\n",
    "    name='Heating',\n",
    ")\n",
    "zwc = go.Bar(\n",
    "    x=zurich_west.Name,\n",
    "    y=zurich_west.C,\n",
    "    name='Cooling',\n",
    ")\n",
    "\n",
    "zwpv = go.Bar(\n",
    "    x=zurich_west.Name,\n",
    "    y=zurich_west.PV,\n",
    "    name='PV',\n",
    ")\n",
    "\n",
    "data = [zwh,zwc,zwl,zwpv]\n",
    "\n",
    "layout = go.Layout(\n",
    "    title='Zurich West',\n",
    "    barmode='stack',\n",
    "    xaxis=dict(\n",
    "        title='Archetype',\n",
    "        titlefont=dict(\n",
    "            family='Courier New, monospace',\n",
    "            size=18,\n",
    "            color='#7f7f7f',\n",
    "  \n",
    "        )\n",
    "    ),\n",
    "    yaxis=dict(\n",
    "        title='kWH/year',\n",
    "        titlefont=dict(\n",
    "            family='Courier New, monospace',\n",
    "            size=18,\n",
    "            color='#7f7f7f'\n",
    "        )\n",
    "    )\n",
    ")\n",
    "fig = go.Figure(data=data, layout=layout)\n",
    "py.iplot(fig, filename='Zurich West')\n"
   ]
  },
  {
   "cell_type": "code",
   "execution_count": 16,
   "metadata": {
    "collapsed": false
   },
   "outputs": [
    {
     "data": {
      "text/html": [
       "<iframe id=\"igraph\" scrolling=\"no\" style=\"border:none;\" seamless=\"seamless\" src=\"https://plot.ly/~JustinZarb/20.embed\" height=\"525px\" width=\"100%\"></iframe>"
      ],
      "text/plain": [
       "<plotly.tools.PlotlyDisplay object>"
      ]
     },
     "execution_count": 16,
     "metadata": {},
     "output_type": "execute_result"
    }
   ],
   "source": [
    "# Cairo West Data\n",
    "\n",
    "import plotly.plotly as py\n",
    "import plotly.graph_objs as go\n",
    "\n",
    "cwl = go.Bar(\n",
    "    x=cw.Name,\n",
    "    y=cw.L,\n",
    "    name='Lighting',\n",
    ")\n",
    "cwh = go.Bar(\n",
    "    x=cw.Name,\n",
    "    y=cw.H,\n",
    "    name='Heating',\n",
    ")\n",
    "cwc = go.Bar(\n",
    "    x=cw.Name,\n",
    "    y=cw.C,\n",
    "    name='Cooling',\n",
    ")\n",
    "\n",
    "cwpv = go.Bar(\n",
    "    x=cw.Name,\n",
    "    y=cw.PV,\n",
    "    name='PV',\n",
    ")\n",
    "\n",
    "data = [cwh,cwc,cwl,cwpv]\n",
    "layout = go.Layout(\n",
    "    title='Cairo West',\n",
    "    barmode='stack',\n",
    "    xaxis=dict(\n",
    "        title='Archetype',\n",
    "        titlefont=dict(\n",
    "            family='Courier New, monospace',\n",
    "            size=18,\n",
    "            color='#7f7f7f'\n",
    "        )\n",
    "    ),\n",
    "    yaxis=dict(\n",
    "        title='kWH/year',\n",
    "        titlefont=dict(\n",
    "            family='Courier New, monospace',\n",
    "            size=18,\n",
    "            color='#7f7f7f'\n",
    "    )\n",
    "    ))\n",
    "\n",
    "fig = go.Figure(data=data, layout=layout)\n",
    "py.iplot(fig, filename='Cairo West')"
   ]
  },
  {
   "cell_type": "code",
   "execution_count": 30,
   "metadata": {
    "collapsed": false
   },
   "outputs": [
    {
     "data": {
      "text/html": [
       "<iframe id=\"igraph\" scrolling=\"no\" style=\"border:none;\" seamless=\"seamless\" src=\"https://plot.ly/~JustinZarb/18.embed\" height=\"525px\" width=\"100%\"></iframe>"
      ],
      "text/plain": [
       "<plotly.tools.PlotlyDisplay object>"
      ]
     },
     "execution_count": 30,
     "metadata": {},
     "output_type": "execute_result"
    }
   ],
   "source": [
    "# Cairo South Data\n",
    "\n",
    "import plotly.plotly as py\n",
    "import plotly.graph_objs as go\n",
    "\n",
    "csl = go.Bar(\n",
    "    x=cairo_south.Name,\n",
    "    y=cairo_south.L,\n",
    "    name='Lighting',\n",
    ")\n",
    "csh = go.Bar(\n",
    "    x=cairo_south.Name,\n",
    "    y=cairo_south.H,\n",
    "    name='Heating',\n",
    ")\n",
    "csc = go.Bar(\n",
    "    x=cairo_south.Name,\n",
    "    y=cairo_south.C,\n",
    "    name='Cooling',\n",
    ")\n",
    "\n",
    "cspv = go.Bar(\n",
    "    x=cairo_south.Name,\n",
    "    y=cairo_south.PV,\n",
    "    name='PV',\n",
    ")\n",
    "\n",
    "data = [csh,csc,csl,cspv]\n",
    "layout = go.Layout(\n",
    "    title='Cairo South',\n",
    "    barmode='stack',\n",
    ")\n",
    "\n",
    "fig = go.Figure(data=data, layout=layout)\n",
    "py.iplot(fig, filename='Cairo South_vertical')"
   ]
  },
  {
   "cell_type": "code",
   "execution_count": 14,
   "metadata": {
    "collapsed": false
   },
   "outputs": [
    {
     "data": {
      "text/html": [
       "<iframe id=\"igraph\" scrolling=\"no\" style=\"border:none;\" seamless=\"seamless\" src=\"https://plot.ly/~JustinZarb/28.embed\" height=\"525px\" width=\"100%\"></iframe>"
      ],
      "text/plain": [
       "<plotly.tools.PlotlyDisplay object>"
      ]
     },
     "execution_count": 14,
     "metadata": {},
     "output_type": "execute_result"
    }
   ],
   "source": [
    "# Zurich Savings MWH\n",
    "\n",
    "import plotly.plotly as py\n",
    "import plotly.graph_objs as go\n",
    "\n",
    "zs90 = go.Bar(\n",
    "    x=zurich_south.Name,\n",
    "    y=zurich_S_asf_90.E,\n",
    "    name='Zurich South: ASF vs static shading 90 degrees',\n",
    ")\n",
    "zs45 = go.Bar(\n",
    "    x=zurich_south.Name,\n",
    "    y=zurich_S_asf_45.E,\n",
    "    name='Zurich South: ASF vs static shading 45 degrees',\n",
    ")\n",
    "# zw90 = go.Bar(\n",
    "#     x=zurich_south.Name,\n",
    "#     y=zurich_W_asf_90.E,\n",
    "#     name='Zurich West: ASF vs static shading 90 degrees',\n",
    "# )\n",
    "# zw45 = go.Bar(\n",
    "#     x=zurich_south.Name,\n",
    "#     y=zurich_W_asf_45.E,\n",
    "#     name='Zurich West: ASF vs static shading 45 degrees',\n",
    "# )\n",
    "\n",
    "data = [zs90,zs45]\n",
    "layout = go.Layout(\n",
    "    title='Zurich (South Facade): Potential Total Energy Savings of the ASF',\n",
    "    barmode='stack',\n",
    ")\n",
    "\n",
    "fig = go.Figure(data=data, layout=layout)\n",
    "py.iplot(fig, filename='Zurich Savings')\n"
   ]
  },
  {
   "cell_type": "code",
   "execution_count": 11,
   "metadata": {
    "collapsed": false
   },
   "outputs": [
    {
     "data": {
      "text/html": [
       "<iframe id=\"igraph\" scrolling=\"no\" style=\"border:none;\" seamless=\"seamless\" src=\"https://plot.ly/~JustinZarb/26.embed\" height=\"525px\" width=\"100%\"></iframe>"
      ],
      "text/plain": [
       "<plotly.tools.PlotlyDisplay object>"
      ]
     },
     "execution_count": 11,
     "metadata": {},
     "output_type": "execute_result"
    }
   ],
   "source": [
    "# Cairo Savings MWH\n",
    "\n",
    "cs90 = go.Bar(\n",
    "    x=cairo_south.Name,\n",
    "    y=cairo_S_asf_90.E,\n",
    "    name='Cairo South: ASF vs static shading 90 degrees',\n",
    ")\n",
    "cs45 = go.Bar(\n",
    "    x=cairo_south.Name,\n",
    "    y=cairo_S_asf_45.E,\n",
    "    name='Cairo South: ASF vs static shading 45 degrees',\n",
    ")\n",
    "cw90 = go.Bar(\n",
    "    x=cairo_south.Name,\n",
    "    y=cairo_W_asf_90.E,\n",
    "    name='Cairo West: ASF vs static shading 90 degrees',\n",
    ")\n",
    "cw45 = go.Bar(\n",
    "    x=cairo_south.Name,\n",
    "    y=cairo_W_asf_45.E,\n",
    "    name='Cairo West: ASF vs static shading 45 degrees',\n",
    ")\n",
    "\n",
    "data = [cs90,cs45,cw90,cw45]\n",
    "layout = go.Layout(\n",
    "    title='Cairo: Potential Total Energy Savings of the ASF',\n",
    "#     barmode='stack',\n",
    ")\n",
    "\n",
    "fig = go.Figure(data=data, layout=layout)\n",
    "py.iplot(fig, filename='Cairo Savings')\n"
   ]
  },
  {
   "cell_type": "code",
   "execution_count": 159,
   "metadata": {
    "collapsed": false
   },
   "outputs": [
    {
     "name": "stdout",
     "output_type": "stream",
     "text": [
      "          Name            C            E        E_HCL            H          L  \\\n",
      "62  FOODSTORE1  1911.134561  3092.874468  3748.660349  1462.712538  374.81325   \n",
      "61  FOODSTORE2  2089.535140  3020.771875  3679.589079  1215.240688  374.81325   \n",
      "60  FOODSTORE3  1971.213870  3150.665876  3798.646249  1452.619129  374.81325   \n",
      "\n",
      "            PV   interval  \n",
      "62 -655.785881  1970-1980  \n",
      "61 -658.817204  1920-1970  \n",
      "60 -647.980373       1920  \n"
     ]
    }
   ],
   "source": [
    "# Age comparison\n",
    "b_props = pd.read_csv(filepath('b_props.csv'))\n",
    "zs_interval = pd.read_csv(filepath('Archetypes_Zurich_South.csv'))\n",
    "#Select subset of b_props:\n",
    "#b_props = b_props[b_props.interval =='2005-2020']\n",
    "#b_props = b_props[b_props.type == 'construction']\n",
    "zs_interval = zs_interval.loc[zs_interval['Name'].isin(b_props['Name'])]\n",
    "zs_interval['interval'] = b_props['interval']\n",
    "zs_interval = sort_stringint(zs_interval, 'Name')"
   ]
  }
 ],
 "metadata": {
  "anaconda-cloud": {},
  "kernelspec": {
   "display_name": "Python [conda root]",
   "language": "python",
   "name": "conda-root-py"
  },
  "language_info": {
   "codemirror_mode": {
    "name": "ipython",
    "version": 2
   },
   "file_extension": ".py",
   "mimetype": "text/x-python",
   "name": "python",
   "nbconvert_exporter": "python",
   "pygments_lexer": "ipython2",
   "version": "2.7.12"
  }
 },
 "nbformat": 4,
 "nbformat_minor": 1
}
