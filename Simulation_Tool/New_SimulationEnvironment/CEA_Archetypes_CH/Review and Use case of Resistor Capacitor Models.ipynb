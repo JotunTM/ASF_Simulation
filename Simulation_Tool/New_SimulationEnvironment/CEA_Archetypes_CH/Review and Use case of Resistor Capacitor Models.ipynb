{
 "cells": [
  {
   "cell_type": "code",
   "execution_count": null,
   "metadata": {
    "collapsed": true
   },
   "outputs": [],
   "source": [
    "1R-1C model\n"
   ]
  },
  {
   "cell_type": "markdown",
   "metadata": {},
   "source": [
    "3R-1C model"
   ]
  },
  {
   "cell_type": "markdown",
   "metadata": {},
   "source": [
    "5R-1C model (ISO7751)"
   ]
  },
  {
   "cell_type": "markdown",
   "metadata": {},
   "source": [
    "carpet plot: heating vs cooling\n"
   ]
  },
  {
   "cell_type": "markdown",
   "metadata": {},
   "source": [
    "carpet plot: occupancy vs building age\n"
   ]
  },
  {
   "cell_type": "code",
   "execution_count": 2,
   "metadata": {
    "collapsed": true
   },
   "outputs": [],
   "source": [
    "import pandas as pd\n",
    "import matplotlib.pyplot as plt\n",
    "import datetime\n",
    "import numpy as np\n",
    "import cdecimal as dec\n",
    "import re as re\n",
    "import csv\n",
    "import os, sys\n",
    "import plotly.plotly as py\n",
    "from plotly.tools import FigureFactory as FF\n",
    "import plotly.graph_objs as go\n"
   ]
  },
  {
   "cell_type": "code",
   "execution_count": 3,
   "metadata": {
    "collapsed": false
   },
   "outputs": [],
   "source": [
    "paths = {}\n",
    "def filepath(filename):\n",
    "    paths['main'] = \"C:\\Users\\Zghiru\\Documents\\GitHub\\ASF_Simulation\\Simulation_Tool\\New_SimulationEnvironment\\CEA_Archetypes_CH\"\n",
    "    #os.path.abspath(os.path.dirname(sys.argv[0]))\n",
    "    paths['result'] = os.path.join(paths['main'], filename)  \n",
    "    return paths['result']\n",
    "\n",
    "def split_Name_char_num(dataframe):\n",
    "    occtype=[]\n",
    "    typenum=[]\n",
    "    for name in dataframe.Name: \n",
    "        match = re.match(r\"([a-zA-Z_]+)([0-9]+)\", name, re.I)\n",
    "        if match:\n",
    "            items = match.groups()\n",
    "            occtype.append(items[0])\n",
    "            typenum.append(int(items[1]))\n",
    "    dataframe['occtype'] = pd.DataFrame(occtype)\n",
    "    dataframe['typenum'] = pd.DataFrame(typenum)\n",
    "    dataframe.sort_values(['occtype','typenum'],ascending=[False,True])\n",
    "    return \n"
   ]
  },
  {
   "cell_type": "code",
   "execution_count": 15,
   "metadata": {
    "collapsed": false
   },
   "outputs": [
    {
     "ename": "AttributeError",
     "evalue": "'NoneType' object has no attribute 'loc'",
     "output_type": "error",
     "traceback": [
      "\u001b[0;31m---------------------------------------------------------------------------\u001b[0m",
      "\u001b[0;31mAttributeError\u001b[0m                            Traceback (most recent call last)",
      "\u001b[0;32m<ipython-input-15-e537204cb2d2>\u001b[0m in \u001b[0;36m<module>\u001b[0;34m()\u001b[0m\n\u001b[1;32m      7\u001b[0m \u001b[0mcairo_south\u001b[0m \u001b[1;33m=\u001b[0m \u001b[0mpd\u001b[0m\u001b[1;33m.\u001b[0m\u001b[0mread_csv\u001b[0m\u001b[1;33m(\u001b[0m\u001b[0mfilepath\u001b[0m\u001b[1;33m(\u001b[0m\u001b[1;34m'Archetypes_Cairo_South.csv'\u001b[0m\u001b[1;33m)\u001b[0m\u001b[1;33m)\u001b[0m\u001b[1;33m\u001b[0m\u001b[0m\n\u001b[1;32m      8\u001b[0m \u001b[0mcairo_south\u001b[0m \u001b[1;33m=\u001b[0m \u001b[0msplit_Name_char_num\u001b[0m\u001b[1;33m(\u001b[0m\u001b[0mcairo_south\u001b[0m\u001b[1;33m)\u001b[0m\u001b[1;33m\u001b[0m\u001b[0m\n\u001b[0;32m----> 9\u001b[0;31m \u001b[0mcairo_south\u001b[0m \u001b[1;33m=\u001b[0m \u001b[0mcairo_south\u001b[0m\u001b[1;33m.\u001b[0m\u001b[0mloc\u001b[0m\u001b[1;33m[\u001b[0m\u001b[0mcairo_south\u001b[0m\u001b[1;33m[\u001b[0m\u001b[1;34m'Name'\u001b[0m\u001b[1;33m]\u001b[0m\u001b[1;33m.\u001b[0m\u001b[0misin\u001b[0m\u001b[1;33m(\u001b[0m\u001b[0mb_props\u001b[0m\u001b[1;33m.\u001b[0m\u001b[0mName\u001b[0m\u001b[1;33m)\u001b[0m\u001b[1;33m]\u001b[0m\u001b[1;33m\u001b[0m\u001b[0m\n\u001b[0m\u001b[1;32m     10\u001b[0m \u001b[0mcairo_south\u001b[0m\u001b[1;33m.\u001b[0m\u001b[0msort_values\u001b[0m\u001b[1;33m(\u001b[0m\u001b[1;33m[\u001b[0m\u001b[1;34m'occtype'\u001b[0m\u001b[1;33m,\u001b[0m\u001b[1;34m'typenum'\u001b[0m\u001b[1;33m]\u001b[0m\u001b[1;33m,\u001b[0m\u001b[0mascending\u001b[0m\u001b[1;33m=\u001b[0m\u001b[1;33m[\u001b[0m\u001b[0mFalse\u001b[0m\u001b[1;33m,\u001b[0m\u001b[0mTrue\u001b[0m\u001b[1;33m]\u001b[0m\u001b[1;33m)\u001b[0m\u001b[1;33m\u001b[0m\u001b[0m\n\u001b[1;32m     11\u001b[0m \u001b[1;31m#cairo_south['index'] = cairo_south.index # create a sort index for\u001b[0m\u001b[1;33m\u001b[0m\u001b[1;33m\u001b[0m\u001b[0m\n",
      "\u001b[0;31mAttributeError\u001b[0m: 'NoneType' object has no attribute 'loc'"
     ]
    }
   ],
   "source": [
    "b_props = pd.read_csv(filepath('b_props.csv'))\n",
    "#b_props = b_props[b_props.interval == \"2005-2020\"] #select buildings from specific period\n",
    "#b_props = b_props[b_props.type=='construction' #select only new built buildings\n",
    "\n",
    "\n",
    "\n",
    "cairo_south = pd.read_csv(filepath('Archetypes_Cairo_South.csv'))\n",
    "cairo_south = split_Name_char_num(cairo_south)\n",
    "cairo_south = cairo_south.loc[cairo_south['Name'].isin(b_props.Name)]\n",
    "cairo_south.sort_values(['occtype','typenum'],ascending=[False,True])\n",
    "#cairo_south['index'] = cairo_south.index # create a sort index for \n",
    "#cairo_south.sort_values(['E_HCL'],ascending=True)\n",
    "\n",
    "cairo_west = pd.read_csv(filepath('Archetypes_Cairo_West.csv'))\n",
    "cairo_west = split_Name_char_num(cairo_west)\n",
    "cairo_west = cairo_west.loc[cairo_west['Name'].isin(b_props.Name)]\n",
    "cairo_west.sort_values(['occtype','typenum'],ascending=[False,True])\n",
    "\n",
    "cw = cairo_west.drop(['Name', 'occtype', 'typenum'],axis=1)\n",
    "cs = cairo_south.drop(['Name', 'occtype', 'typenum'],axis=1)\n",
    "\n",
    "cairo_WS = cs.subtract(cw)\n",
    "cairo_WS[\"Name\"]=cairo_south[\"Name\"]\n",
    "\n",
    "zurich_south = pd.read_csv(filepath('Archetypes_Zurich_South_2013.csv'))\n",
    "zurich_south = split_Name_char_num(zurich_south)\n",
    "zurich_south = zurich_south.loc[zurich_south['Name'].isin(b_props.Name)]\n",
    "zurich_south.sort_values(['occtype','typenum'],ascending=[False,True])\n",
    "\n",
    "print cairo_south"
   ]
  },
  {
   "cell_type": "code",
   "execution_count": 67,
   "metadata": {
    "collapsed": false
   },
   "outputs": [
    {
     "data": {
      "text/html": [
       "<iframe id=\"igraph\" scrolling=\"no\" style=\"border:none;\" seamless=\"seamless\" src=\"https://plot.ly/~JustinZarb/4.embed\" height=\"525px\" width=\"100%\"></iframe>"
      ],
      "text/plain": [
       "<plotly.tools.PlotlyDisplay object>"
      ]
     },
     "execution_count": 67,
     "metadata": {},
     "output_type": "execute_result"
    }
   ],
   "source": [
    "# E_HCL across the different orientations\n",
    "### SUBTRACT PV\n",
    "zurich = go.Scatter(\n",
    "    x=zurich_south.Name,\n",
    "    y=zurich_south.E_HCL,\n",
    "    fill='tonexty',\n",
    "    name='Zurich_South'\n",
    ")\n",
    "cairosouth = go.Scatter(\n",
    "    x=cairo_south.Name,\n",
    "    y=cairo_south.E_HCL,\n",
    "    fill='tonexty',\n",
    "    name='Cairo_South'\n",
    ")\n",
    "cairowest = go.Scatter(\n",
    "    x=cairo_west.Name,\n",
    "    y=cairo_west.E_HCL,\n",
    "    fill='tonexty',\n",
    "    name='Cairo_west'\n",
    ")\n",
    "\n",
    "data = [zurich,cairosouth,cairowest]\n",
    "\n",
    "layout = go.Layout(\n",
    "    title='E_HCL',\n",
    "    xaxis=dict(\n",
    "        title='Archetype',\n",
    "        titlefont=dict(\n",
    "            family='Courier New, monospace',\n",
    "            size=18,\n",
    "            color='#7f7f7f'\n",
    "        )\n",
    "    ),\n",
    "    yaxis=dict(\n",
    "        title='MWH/year',\n",
    "        titlefont=dict(\n",
    "            family='Courier New, monospace',\n",
    "            size=18,\n",
    "            color='#7f7f7f'\n",
    "        )\n",
    "    )\n",
    ")\n",
    "fig = go.Figure(data=data, layout=layout)\n",
    "py.iplot(fig, filename='new')"
   ]
  },
  {
   "cell_type": "code",
   "execution_count": 66,
   "metadata": {
    "collapsed": false
   },
   "outputs": [
    {
     "data": {
      "text/html": [
       "<iframe id=\"igraph\" scrolling=\"no\" style=\"border:none;\" seamless=\"seamless\" src=\"https://plot.ly/~JustinZarb/4.embed\" height=\"525px\" width=\"100%\"></iframe>"
      ],
      "text/plain": [
       "<plotly.tools.PlotlyDisplay object>"
      ]
     },
     "execution_count": 66,
     "metadata": {},
     "output_type": "execute_result"
    }
   ],
   "source": [
    "#Cairo West-south comparison\n",
    "\n",
    "cws1 = go.Scatter(\n",
    "    x=cairo_WS.Name,\n",
    "    y=cairo_WS.L,\n",
    "    fill='tonexty',\n",
    "    name='Lighting'\n",
    ")\n",
    "cws2 = go.Scatter(\n",
    "    x=cairo_WS.Name,\n",
    "    y=cairo_WS.H,\n",
    "    fill='tonexty',\n",
    "    name='Heating'\n",
    ")\n",
    "cws3 = go.Scatter(\n",
    "    x=cairo_WS.Name,\n",
    "    y=cairo_WS.C,\n",
    "    fill='tonexty',\n",
    "    name='Cooling'\n",
    ")\n",
    "cws4 = go.Scatter(\n",
    "    x=cairo_WS.Name,\n",
    "    y=cairo_WS.E,\n",
    "    fill='tonexty',\n",
    "    name='Electricity'\n",
    ")\n",
    "cws5 = go.Scatter(\n",
    "    x=cairo_WS.Name,\n",
    "    y=cairo_WS.E_HCL,\n",
    "    fill='tonexty',\n",
    "    name='Total Energy'\n",
    ")\n",
    "\n",
    "cws6 = go.Scatter(\n",
    "    x=cairo_WS.Name,\n",
    "    y=cairo_WS.PV,\n",
    "    fill='tonexty',\n",
    "    name='PV Generation'\n",
    ")\n",
    "\n",
    "\n",
    "data = [cws1,cws2,cws3,cws4,cws5,cws6]\n",
    "\n",
    "\n",
    "py.iplot(data, filename='horizontal-bar')\n",
    "layout = go.Layout(\n",
    "    title='Difference between West and South-oriented rooms in Cairo',\n",
    "    xaxis=dict(\n",
    "        title='Archetype',\n",
    "        titlefont=dict(\n",
    "            family='Courier New, monospace',\n",
    "            size=18,\n",
    "            color='#7f7f7f'\n",
    "        )\n",
    "    ),\n",
    "    yaxis=dict(\n",
    "        title='MWH/year',\n",
    "        titlefont=dict(\n",
    "            family='Courier New, monospace',\n",
    "            size=18,\n",
    "            color='#7f7f7f'\n",
    "        )\n",
    "    )\n",
    ")\n",
    "fig = go.Figure(data=data, layout=layout)\n",
    "py.iplot(fig, filename='new')"
   ]
  },
  {
   "cell_type": "code",
   "execution_count": 63,
   "metadata": {
    "collapsed": false
   },
   "outputs": [
    {
     "data": {
      "text/html": [
       "<iframe id=\"igraph\" scrolling=\"no\" style=\"border:none;\" seamless=\"seamless\" src=\"https://plot.ly/~JustinZarb/8.embed\" height=\"525px\" width=\"100%\"></iframe>"
      ],
      "text/plain": [
       "<plotly.tools.PlotlyDisplay object>"
      ]
     },
     "execution_count": 63,
     "metadata": {},
     "output_type": "execute_result"
    }
   ],
   "source": [
    "#horizontal stacked barchart for Zurich South\n",
    "\n",
    "import plotly.plotly as py\n",
    "import plotly.graph_objs as go\n",
    "\n",
    "zsl = go.Bar(\n",
    "    x=zurich_south.L,\n",
    "    y=zurich_south.Name,\n",
    "    name='Lighting',\n",
    "    orientation = 'h'\n",
    ")\n",
    "zsh = go.Bar(\n",
    "    x=zurich_south.H,\n",
    "    y=zurich_south.Name,\n",
    "    name='Heating',\n",
    "    orientation = 'h'\n",
    ")\n",
    "zsc = go.Bar(\n",
    "    x=zurich_south.C,\n",
    "    y=zurich_south.Name,\n",
    "    name='Cooling',\n",
    "    orientation = 'h'\n",
    ")\n",
    "zse = go.Bar(\n",
    "    x=zurich_south.E,\n",
    "    y=zurich_south.Name,\n",
    "    name='Electricity',\n",
    "    orientation = 'h'\n",
    ")\n",
    "\n",
    "data = [zsh,zsc,zsl,zse]\n",
    "layout = go.Layout(\n",
    "    barmode='stack',\n",
    ")\n",
    "\n",
    "fig = go.Figure(data=data, layout=layout)\n",
    "py.iplot(fig, filename='Zurich South')\n"
   ]
  },
  {
   "cell_type": "code",
   "execution_count": 64,
   "metadata": {
    "collapsed": false
   },
   "outputs": [
    {
     "data": {
      "text/html": [
       "<iframe id=\"igraph\" scrolling=\"no\" style=\"border:none;\" seamless=\"seamless\" src=\"https://plot.ly/~JustinZarb/10.embed\" height=\"525px\" width=\"100%\"></iframe>"
      ],
      "text/plain": [
       "<plotly.tools.PlotlyDisplay object>"
      ]
     },
     "execution_count": 64,
     "metadata": {},
     "output_type": "execute_result"
    }
   ],
   "source": [
    "import plotly.plotly as py\n",
    "import plotly.graph_objs as go\n",
    "\n",
    "zsl = go.Bar(\n",
    "    x=zurich_south.Name,\n",
    "    y=zurich_south.L,\n",
    "    name='Lighting',\n",
    ")\n",
    "zsh = go.Bar(\n",
    "    x=zurich_south.Name,\n",
    "    y=zurich_south.H,\n",
    "    name='Heating',\n",
    ")\n",
    "zsc = go.Bar(\n",
    "    x=zurich_south.Name,\n",
    "    y=zurich_south.C,\n",
    "    name='Cooling',\n",
    ")\n",
    "zse = go.Bar(\n",
    "    x=zurich_south.Name,\n",
    "    y=zurich_south.E,\n",
    "    name='Electricity',\n",
    ")\n",
    "\n",
    "data = [zsh,zsc,zsl,zse]\n",
    "layout = go.Layout(\n",
    "    barmode='stack',\n",
    ")\n",
    "\n",
    "fig = go.Figure(data=data, layout=layout)\n",
    "py.iplot(fig, filename='Zurich South_vertical')\n"
   ]
  },
  {
   "cell_type": "code",
   "execution_count": 68,
   "metadata": {
    "collapsed": false
   },
   "outputs": [
    {
     "data": {
      "text/html": [
       "<iframe id=\"igraph\" scrolling=\"no\" style=\"border:none;\" seamless=\"seamless\" src=\"https://plot.ly/~JustinZarb/14.embed\" height=\"600px\" width=\"600px\"></iframe>"
      ],
      "text/plain": [
       "<plotly.tools.PlotlyDisplay object>"
      ]
     },
     "execution_count": 68,
     "metadata": {},
     "output_type": "execute_result"
    }
   ],
   "source": [
    "import numpy as np\n",
    "\n",
    "t = np.linspace(-1, 1.2, 2000)\n",
    "x = cairo_south.E_HCL\n",
    "y = cairo_west.E_HCL\n",
    "\n",
    "\n",
    "colorscale = ['#7A4579', '#D56073', 'rgb(236,158,105)', (1, 1, 0.2), (0.98,0.98,0.98)]\n",
    "\n",
    "fig = FF.create_2D_density(\n",
    "    x, y, colorscale=colorscale,\n",
    "    hist_color='rgb(255, 237, 222)', point_size=3\n",
    ")\n",
    "\n",
    "py.iplot(fig, filename='CAIRO West vs South')"
   ]
  }
 ],
 "metadata": {
  "anaconda-cloud": {},
  "kernelspec": {
   "display_name": "Python [conda root]",
   "language": "python",
   "name": "conda-root-py"
  },
  "language_info": {
   "codemirror_mode": {
    "name": "ipython",
    "version": 2
   },
   "file_extension": ".py",
   "mimetype": "text/x-python",
   "name": "python",
   "nbconvert_exporter": "python",
   "pygments_lexer": "ipython2",
   "version": "2.7.12"
  }
 },
 "nbformat": 4,
 "nbformat_minor": 1
}
